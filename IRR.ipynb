{
 "cells": [
  {
   "cell_type": "code",
   "execution_count": 1,
   "metadata": {},
   "outputs": [],
   "source": [
    "# Imports the function for calculating Cohen's kappa score \n",
    "from sklearn.metrics import cohen_kappa_score"
   ]
  },
  {
   "cell_type": "markdown",
   "metadata": {},
   "source": [
    "A categorization has been obtained by asking ChatGPT UiO to categorize a list of responses into four different categories. A number has been assigned to each category for ease of implementation in python. The relationship between number and category is as follows:<br>\n",
    "1 - Career Opportunities<br>\n",
    "2 - Social Life<br>\n",
    "3 - Learning<br>\n",
    "4 - Other"
   ]
  },
  {
   "cell_type": "markdown",
   "metadata": {},
   "source": [
    "The \"ground truth\" has the following distribution:"
   ]
  },
  {
   "cell_type": "code",
   "execution_count": 42,
   "metadata": {},
   "outputs": [],
   "source": [
    "ground_truth = [3,3,2,3,3,1,1,2,3,3,2,2,1,4,3,2,1,2,3,2,3,4,3,1,4]"
   ]
  },
  {
   "cell_type": "markdown",
   "metadata": {},
   "source": [
    "Categorization done by ChatGPT UiO in three different trials:"
   ]
  },
  {
   "cell_type": "code",
   "execution_count": 39,
   "metadata": {},
   "outputs": [],
   "source": [
    "trial_1 = [3,3,2,3,3,1,1,2,3,3,2,2,1,3,3,3,3,2,3,2,3,2,3,1,4]\n",
    "trial_2 = [3,3,2,3,3,1,1,3,3,3,2,2,1,3,3,2,1,2,3,2,3,4,3,1,4]\n",
    "trial_3 = [3,3,2,3,3,1,1,2,3,3,2,2,1,3,3,2,1,3,3,2,3,4,3,1,4]"
   ]
  },
  {
   "cell_type": "markdown",
   "metadata": {},
   "source": [
    "Code that computes the Cohen's kappa score"
   ]
  },
  {
   "cell_type": "code",
   "execution_count": 41,
   "metadata": {},
   "outputs": [
    {
     "name": "stdout",
     "output_type": "stream",
     "text": [
      "0.7635933806146572\n",
      "0.8842592592592593\n",
      "0.8842592592592593\n"
     ]
    }
   ],
   "source": [
    "run_list = [trial_1,trial_2,trial_3]\n",
    "\n",
    "for i in run_list:\n",
    "    print(cohen_kappa_score(i, ground_truth))"
   ]
  },
  {
   "cell_type": "markdown",
   "metadata": {},
   "source": [
    "### Assortert"
   ]
  },
  {
   "cell_type": "code",
   "execution_count": 31,
   "metadata": {},
   "outputs": [
    {
     "data": {
      "text/plain": [
       "0.35064935064935054"
      ]
     },
     "execution_count": 31,
     "metadata": {},
     "output_type": "execute_result"
    }
   ],
   "source": [
    "y5 = [3, 3, 2, 3, 3, 1, 1, 2, 3, 1, 2, 3, 4, 3, 2, 4, 4, 2, 4, 2, 4, 3, 1, 4, 4]\n",
    "y6 = [3, 3, 2, 3, 3, 1, 1, 2, 3, 3, 2, 2, 1, 4, 3, 2, 1, 2, 3, 2, 3, 4, 3, 1, 4]\n",
    "\n",
    "cohen_kappa_score(y5,y6)"
   ]
  },
  {
   "cell_type": "code",
   "execution_count": 32,
   "metadata": {},
   "outputs": [],
   "source": [
    "x1 = [\"Learning\", \"Learning\", \"Social Life\", \"Learning\", \"Learning\", \"Career Opportunities\", \"Career Opportunities\", \"Social Life\", \"Other\", \"Learning\", \"Social Life\", \"Social Life\", \"Career Opportunities\", \"Other\", \"Learning\", \"Social Life\", \"Career Opportunities\", \"Social Life\", \"Other\", \"Social Life\", \"Learning\", \"Other\", \"Other\", \"Career Opportunities\", \"Other\"]"
   ]
  },
  {
   "cell_type": "code",
   "execution_count": 33,
   "metadata": {},
   "outputs": [],
   "source": [
    "z1 = [3,3,2,3,3,1,1,2,4,3,2,2,1,4,3,2,1,2,4,2,3,4,4,1,4]"
   ]
  },
  {
   "cell_type": "code",
   "execution_count": 34,
   "metadata": {},
   "outputs": [
    {
     "data": {
      "text/plain": [
       "0.838012958963283"
      ]
     },
     "execution_count": 34,
     "metadata": {},
     "output_type": "execute_result"
    }
   ],
   "source": [
    "cohen_kappa_score(z1,embed_truth)"
   ]
  },
  {
   "cell_type": "code",
   "execution_count": 36,
   "metadata": {},
   "outputs": [
    {
     "name": "stdout",
     "output_type": "stream",
     "text": [
      "0.7530864197530864 0.7530864197530864 0.8798076923076923\n",
      "0.7216035634743876\n"
     ]
    }
   ],
   "source": [
    "y4 = [3, 3, 2, 3, 3, 1, 1, 2, 3, 3, 2, 2, 1, 4, 3, 2, 1, 2, 4, 2, 3, 4, 4, 1, 1]\n",
    "print(cohen_kappa_score(y1,y2), cohen_kappa_score(y1,y3), cohen_kappa_score(y2,y3))\n",
    "\n",
    "print(cohen_kappa_score(y3,y4))"
   ]
  },
  {
   "cell_type": "code",
   "execution_count": 25,
   "metadata": {},
   "outputs": [],
   "source": [
    "def string_converter(x):\n",
    "    int_list = []\n",
    "    for index in x:\n",
    "        if index == \"Career Opportunities\":\n",
    "            int_list.append(1)\n",
    "        elif index == \"Social Life\":\n",
    "            int_list.append(2)\n",
    "        elif index == \"Learning\":\n",
    "            int_list.append(3)\n",
    "        elif index == \"Other\":\n",
    "            int_list.append(4)\n",
    "        else:\n",
    "            print('wrong datatype')\n",
    "    \n",
    "    return int_list\n"
   ]
  },
  {
   "cell_type": "code",
   "execution_count": 27,
   "metadata": {},
   "outputs": [
    {
     "name": "stdout",
     "output_type": "stream",
     "text": [
      "[3, 3, 2, 3, 3, 1, 1, 2, 4, 3, 2, 2, 1, 4, 3, 2, 1, 2, 4, 2, 3, 4, 4, 1, 4]\n"
     ]
    }
   ],
   "source": [
    "x_new = string_converter(x1)\n",
    "\n",
    "print(x_new)"
   ]
  }
 ],
 "metadata": {
  "kernelspec": {
   "display_name": "embed",
   "language": "python",
   "name": "python3"
  },
  "language_info": {
   "codemirror_mode": {
    "name": "ipython",
    "version": 3
   },
   "file_extension": ".py",
   "mimetype": "text/x-python",
   "name": "python",
   "nbconvert_exporter": "python",
   "pygments_lexer": "ipython3",
   "version": "3.12.3"
  }
 },
 "nbformat": 4,
 "nbformat_minor": 2
}
