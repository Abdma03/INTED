{
 "cells": [
  {
   "cell_type": "code",
   "execution_count": 29,
   "metadata": {},
   "outputs": [],
   "source": [
    "# Imports the function for calculating Cohen's kappa score \n",
    "from sklearn.metrics import cohen_kappa_score"
   ]
  },
  {
   "cell_type": "markdown",
   "metadata": {},
   "source": [
    "Code for processing the textdocument containing the categorization done by ChatGPT UiO."
   ]
  },
  {
   "cell_type": "code",
   "execution_count": 34,
   "metadata": {},
   "outputs": [],
   "source": [
    "def text_processing(filename):\n",
    "    category_list = []\n",
    "    with open(filename, 'r') as infile:\n",
    "        for lines in infile:\n",
    "            # splits each line in the textfile\n",
    "            line_split = lines.split('\\n')\n",
    "\n",
    "            #checks if there's multiple categories in one line\n",
    "            if len(line_split[0]) > 20:\n",
    "                comma_split = lines.split(',')        # splits by comma\n",
    "                for i in range(len(comma_split) - 1):\n",
    "                    category_list.append(comma_split[i].strip(' '))     # removes whitespace and adds the line to the list\n",
    "            else:\n",
    "                # removes whitespace and comma and adds it to the list\n",
    "                category_list.append((line_split[0].strip(',')).strip(' '))\n",
    "    \n",
    "    return category_list"
   ]
  },
  {
   "cell_type": "markdown",
   "metadata": {},
   "source": [
    "Calculating the Cohen Kappa Score:"
   ]
  },
  {
   "cell_type": "code",
   "execution_count": 39,
   "metadata": {},
   "outputs": [],
   "source": [
    "ground_truth = text_processing('newsdataset_ground_truth.txt')"
   ]
  },
  {
   "cell_type": "code",
   "execution_count": 55,
   "metadata": {},
   "outputs": [],
   "source": [
    "run_1 = text_processing('output_gpt.txt')\n",
    "run_2 = text_processing('newsdataset_output_Anna.txt')\n",
    "run_3 = text_processing('newsDataSetGPTcoding.txt')"
   ]
  },
  {
   "cell_type": "code",
   "execution_count": 57,
   "metadata": {},
   "outputs": [
    {
     "name": "stdout",
     "output_type": "stream",
     "text": [
      "κ: Ground truth and Run 1: 0.8968636487125565\n",
      "κ: Ground truth and Run 2: 0.7811913027230619\n",
      "κ: Ground truth and Run 3: 0.8942869655828564\n",
      "κ: Run 1 and Run 2: 0.8183344707886739\n",
      "κ: Run 1 and Run 3: 0.9497358619545713\n",
      "κ: Run 2 and Run 3: 0.8231740262291861\n"
     ]
    }
   ],
   "source": [
    "run_list = [ground_truth, run_1, run_2, run_3]\n",
    "run_name = ['Ground truth', 'Run 1', 'Run 2', 'Run 3']\n",
    "\n",
    "for i in range(0,len(run_list)):\n",
    "    for j in range(i+1, len(run_list)):\n",
    "        print(f'{chr(954)}: {run_name[i]} and {run_name[j]}: {cohen_kappa_score(run_list[i],run_list[j])}')"
   ]
  }
 ],
 "metadata": {
  "kernelspec": {
   "display_name": "embed",
   "language": "python",
   "name": "python3"
  },
  "language_info": {
   "codemirror_mode": {
    "name": "ipython",
    "version": 3
   },
   "file_extension": ".py",
   "mimetype": "text/x-python",
   "name": "python",
   "nbconvert_exporter": "python",
   "pygments_lexer": "ipython3",
   "version": "3.12.3"
  }
 },
 "nbformat": 4,
 "nbformat_minor": 2
}
