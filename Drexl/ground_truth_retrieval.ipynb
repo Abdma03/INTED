{
 "cells": [
  {
   "cell_type": "markdown",
   "metadata": {},
   "source": [
    "Importing the necessary libraries"
   ]
  },
  {
   "cell_type": "code",
   "execution_count": 1,
   "metadata": {},
   "outputs": [],
   "source": [
    "import pandas as pd\n",
    "import numpy as np"
   ]
  },
  {
   "cell_type": "markdown",
   "metadata": {},
   "source": [
    "Reading the csv-file and removing the empty row"
   ]
  },
  {
   "cell_type": "code",
   "execution_count": 2,
   "metadata": {},
   "outputs": [],
   "source": [
    "df = pd.read_csv(\"Data/motivation_results_sum.csv\")"
   ]
  },
  {
   "cell_type": "code",
   "execution_count": 3,
   "metadata": {},
   "outputs": [],
   "source": [
    "rows_remove = [177, 325, 374, 499, 665, 1434, 1768, 2058, 2087]\n",
    "for k in rows_remove:\n",
    "    df = df.drop(k)\n",
    "df = df.reset_index(drop=True)"
   ]
  },
  {
   "cell_type": "markdown",
   "metadata": {},
   "source": [
    "Function for merging multiple subgroups into one:"
   ]
  },
  {
   "cell_type": "code",
   "execution_count": 4,
   "metadata": {},
   "outputs": [],
   "source": [
    "def adding_df_vals(column_names):\n",
    "    ''' \n",
    "    This function checks for a \"positive\" identification of categorization in different subcategories, to merge\n",
    "    subcategories into one category.\n",
    "    The function adds together the values of a set number of columns and creates a new array.\n",
    "    If the sum of the column values is >= 1 this is a positive categorization, so the value of the array is set to 1, else\n",
    "    it is set to 0.\n",
    "    `column_names`: a list with the columns that is to be added together\n",
    "    '''\n",
    "    new_column = np.zeros(len(df[column_names[0]]))\n",
    "    for i in range(len(new_column)):\n",
    "        if sum(df.loc[i,column_names[j]] for j in range(len(column_names))) >= 1:\n",
    "            new_column[i] = 1\n",
    "        else:\n",
    "            new_column[i] = 0\n",
    "            \n",
    "    return new_column"
   ]
  },
  {
   "cell_type": "markdown",
   "metadata": {},
   "source": [
    "Combining Intrinsic Value-related categories and Cost-related categories into one each and inserting them into the dataframe:"
   ]
  },
  {
   "cell_type": "code",
   "execution_count": 5,
   "metadata": {},
   "outputs": [],
   "source": [
    "intr_val_gen = adding_df_vals(['Intrinsic Value', 'Intrinsic Value (Astronomy)'])\n",
    "cost_gen = adding_df_vals(['Cost (Emotional)', 'Cost (Outside Effort)', 'Cost (Loss)', 'Cost (Task Effort)'])"
   ]
  },
  {
   "cell_type": "code",
   "execution_count": 6,
   "metadata": {},
   "outputs": [],
   "source": [
    "df.insert(3, \"Cost\", cost_gen, True)\n",
    "df.insert(4, \"Intrinsic Value (General)\", intr_val_gen, True)"
   ]
  },
  {
   "cell_type": "markdown",
   "metadata": {},
   "source": [
    "Function for removing the now obsolete rows:"
   ]
  },
  {
   "cell_type": "code",
   "execution_count": 7,
   "metadata": {},
   "outputs": [],
   "source": [
    "def removing_columns(df, column_names):\n",
    "    for i in range(len(column_names)):\n",
    "        df = df.drop(column_names[i], axis=1)\n",
    "    df = df.reset_index(drop=True)\n",
    "\n",
    "    return df"
   ]
  },
  {
   "cell_type": "code",
   "execution_count": 8,
   "metadata": {},
   "outputs": [],
   "source": [
    "col_remove = ['Intrinsic Value (Astronomy)', 'Intrinsic Value', 'Cost (Emotional)', 'Cost (Outside Effort)', \n",
    "              'Cost (Loss)', 'Cost (Task Effort)']\n",
    "\n",
    "df = removing_columns(df, col_remove)"
   ]
  },
  {
   "cell_type": "markdown",
   "metadata": {},
   "source": [
    "The order of categories in the csv-file is different from the order given to Llama3 is different, and thus have to be changed so that they are comparable."
   ]
  },
  {
   "cell_type": "code",
   "execution_count": 9,
   "metadata": {},
   "outputs": [],
   "source": [
    "def df_column_switch(df, column1, column2):\n",
    "    i = list(df.columns)\n",
    "    a, b = i.index(column1), i.index(column2)\n",
    "    i[b], i[a] = i[a], i[b]\n",
    "    df = df[i]\n",
    "    return df"
   ]
  },
  {
   "cell_type": "code",
   "execution_count": 10,
   "metadata": {},
   "outputs": [],
   "source": [
    "path_columns = ['Attainment Value', 'physiological/emotional', 'Event Triggered', 'Mastery', 'Media Triggered', 'Vicarious',\n",
    "                'Intrinsic Social', 'Social Persuasion']\n",
    "\n",
    "for i in range(len(path_columns)-1):\n",
    "    df = df_column_switch(df, path_columns[i], path_columns[i+1])"
   ]
  },
  {
   "cell_type": "markdown",
   "metadata": {},
   "source": [
    "Code used for centroids"
   ]
  },
  {
   "cell_type": "code",
   "execution_count": 11,
   "metadata": {},
   "outputs": [],
   "source": [
    "'''\n",
    "df = df.drop('Unnamed: 17', axis=1)\n",
    "df = df.rename(columns={\"Unnamed: 18\": \"Num Categories\"})\n",
    "df = df.reset_index(drop=True)\n",
    "'''"
   ]
  },
  {
   "cell_type": "code",
   "execution_count": 12,
   "metadata": {},
   "outputs": [
    {
     "data": {
      "text/html": [
       "<div>\n",
       "<style scoped>\n",
       "    .dataframe tbody tr th:only-of-type {\n",
       "        vertical-align: middle;\n",
       "    }\n",
       "\n",
       "    .dataframe tbody tr th {\n",
       "        vertical-align: top;\n",
       "    }\n",
       "\n",
       "    .dataframe thead th {\n",
       "        text-align: right;\n",
       "    }\n",
       "</style>\n",
       "<table border=\"1\" class=\"dataframe\">\n",
       "  <thead>\n",
       "    <tr style=\"text-align: right;\">\n",
       "      <th></th>\n",
       "      <th>Response</th>\n",
       "      <th>Codes</th>\n",
       "      <th>Attainment Value</th>\n",
       "      <th>Cost</th>\n",
       "      <th>Intrinsic Value (General)</th>\n",
       "      <th>Media Triggered</th>\n",
       "      <th>Event Triggered</th>\n",
       "      <th>Intrinsic Social</th>\n",
       "      <th>Utility Value</th>\n",
       "      <th>Mastery</th>\n",
       "      <th>physiological/emotional</th>\n",
       "      <th>Social Persuasion</th>\n",
       "      <th>Vicarious</th>\n",
       "      <th>Num Categories</th>\n",
       "    </tr>\n",
       "  </thead>\n",
       "  <tbody>\n",
       "    <tr>\n",
       "      <th>0</th>\n",
       "      <td>From the very beginning I had a love for math ...</td>\n",
       "      <td>Intrinsic Value, Physiological/Emotional, Cost...</td>\n",
       "      <td>0</td>\n",
       "      <td>1.0</td>\n",
       "      <td>1.0</td>\n",
       "      <td>0</td>\n",
       "      <td>0</td>\n",
       "      <td>0</td>\n",
       "      <td>0</td>\n",
       "      <td>0</td>\n",
       "      <td>1</td>\n",
       "      <td>0</td>\n",
       "      <td>0</td>\n",
       "      <td>3</td>\n",
       "    </tr>\n",
       "    <tr>\n",
       "      <th>1</th>\n",
       "      <td>I first took a physics class in my junior year...</td>\n",
       "      <td>Vicarious Experience, Intrinsic Value, Cost (L...</td>\n",
       "      <td>0</td>\n",
       "      <td>1.0</td>\n",
       "      <td>1.0</td>\n",
       "      <td>0</td>\n",
       "      <td>0</td>\n",
       "      <td>0</td>\n",
       "      <td>0</td>\n",
       "      <td>0</td>\n",
       "      <td>0</td>\n",
       "      <td>0</td>\n",
       "      <td>1</td>\n",
       "      <td>3</td>\n",
       "    </tr>\n",
       "    <tr>\n",
       "      <th>2</th>\n",
       "      <td>I first considered physics as a major when I t...</td>\n",
       "      <td>Physiological/Emotional, Social Persuasion, Ma...</td>\n",
       "      <td>0</td>\n",
       "      <td>0.0</td>\n",
       "      <td>0.0</td>\n",
       "      <td>0</td>\n",
       "      <td>0</td>\n",
       "      <td>0</td>\n",
       "      <td>0</td>\n",
       "      <td>1</td>\n",
       "      <td>1</td>\n",
       "      <td>1</td>\n",
       "      <td>0</td>\n",
       "      <td>3</td>\n",
       "    </tr>\n",
       "    <tr>\n",
       "      <th>3</th>\n",
       "      <td>Ever since I was a freshman in high school\",\" ...</td>\n",
       "      <td>Vicarious Experience, Social Persuasion, Intri...</td>\n",
       "      <td>0</td>\n",
       "      <td>0.0</td>\n",
       "      <td>1.0</td>\n",
       "      <td>0</td>\n",
       "      <td>0</td>\n",
       "      <td>0</td>\n",
       "      <td>0</td>\n",
       "      <td>0</td>\n",
       "      <td>0</td>\n",
       "      <td>1</td>\n",
       "      <td>1</td>\n",
       "      <td>3</td>\n",
       "    </tr>\n",
       "    <tr>\n",
       "      <th>4</th>\n",
       "      <td>I had always wanted to become an astronaut as ...</td>\n",
       "      <td>Utility Value, Intrinsic Value (Astronomy)</td>\n",
       "      <td>0</td>\n",
       "      <td>0.0</td>\n",
       "      <td>1.0</td>\n",
       "      <td>0</td>\n",
       "      <td>0</td>\n",
       "      <td>0</td>\n",
       "      <td>1</td>\n",
       "      <td>0</td>\n",
       "      <td>0</td>\n",
       "      <td>0</td>\n",
       "      <td>0</td>\n",
       "      <td>2</td>\n",
       "    </tr>\n",
       "  </tbody>\n",
       "</table>\n",
       "</div>"
      ],
      "text/plain": [
       "                                            Response  \\\n",
       "0  From the very beginning I had a love for math ...   \n",
       "1  I first took a physics class in my junior year...   \n",
       "2  I first considered physics as a major when I t...   \n",
       "3  Ever since I was a freshman in high school\",\" ...   \n",
       "4  I had always wanted to become an astronaut as ...   \n",
       "\n",
       "                                               Codes  Attainment Value  Cost  \\\n",
       "0  Intrinsic Value, Physiological/Emotional, Cost...                 0   1.0   \n",
       "1  Vicarious Experience, Intrinsic Value, Cost (L...                 0   1.0   \n",
       "2  Physiological/Emotional, Social Persuasion, Ma...                 0   0.0   \n",
       "3  Vicarious Experience, Social Persuasion, Intri...                 0   0.0   \n",
       "4         Utility Value, Intrinsic Value (Astronomy)                 0   0.0   \n",
       "\n",
       "   Intrinsic Value (General)  Media Triggered  Event Triggered  \\\n",
       "0                        1.0                0                0   \n",
       "1                        1.0                0                0   \n",
       "2                        0.0                0                0   \n",
       "3                        1.0                0                0   \n",
       "4                        1.0                0                0   \n",
       "\n",
       "   Intrinsic Social  Utility Value  Mastery  physiological/emotional  \\\n",
       "0                 0              0        0                        1   \n",
       "1                 0              0        0                        0   \n",
       "2                 0              0        1                        1   \n",
       "3                 0              0        0                        0   \n",
       "4                 0              1        0                        0   \n",
       "\n",
       "   Social Persuasion  Vicarious  Num Categories  \n",
       "0                  0          0               3  \n",
       "1                  0          1               3  \n",
       "2                  1          0               3  \n",
       "3                  1          1               3  \n",
       "4                  0          0               2  "
      ]
     },
     "execution_count": 12,
     "metadata": {},
     "output_type": "execute_result"
    }
   ],
   "source": [
    "df.head()"
   ]
  },
  {
   "cell_type": "code",
   "execution_count": 13,
   "metadata": {},
   "outputs": [],
   "source": [
    "df.to_pickle('df.pkl')"
   ]
  }
 ],
 "metadata": {
  "kernelspec": {
   "display_name": "embed",
   "language": "python",
   "name": "python3"
  },
  "language_info": {
   "codemirror_mode": {
    "name": "ipython",
    "version": 3
   },
   "file_extension": ".py",
   "mimetype": "text/x-python",
   "name": "python",
   "nbconvert_exporter": "python",
   "pygments_lexer": "ipython3",
   "version": "3.10.13"
  }
 },
 "nbformat": 4,
 "nbformat_minor": 2
}
