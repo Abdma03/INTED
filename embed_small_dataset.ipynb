{
 "cells": [
  {
   "cell_type": "markdown",
   "metadata": {},
   "source": [
    "### Imports"
   ]
  },
  {
   "cell_type": "code",
   "execution_count": 9,
   "metadata": {},
   "outputs": [],
   "source": [
    "from sentence_transformers import SentenceTransformer"
   ]
  },
  {
   "cell_type": "code",
   "execution_count": 2,
   "metadata": {},
   "outputs": [],
   "source": [
    "import numpy as np\n",
    "import matplotlib.pyplot as plt\n",
    "import pickle\n",
    "import pandas as pd\n",
    "import scipy as sc\n",
    "\n",
    "# Special imports for plots\n",
    "import seaborn as sns\n",
    "import matplotlib.patches as mpatches\n",
    "import matplotlib.colors as mcolors"
   ]
  },
  {
   "cell_type": "code",
   "execution_count": 3,
   "metadata": {},
   "outputs": [],
   "source": [
    "import pandas as pd\n",
    "import matplotlib.pyplot as plt\n",
    "import numpy as np"
   ]
  },
  {
   "cell_type": "code",
   "execution_count": 67,
   "metadata": {},
   "outputs": [],
   "source": [
    "# Imports for the widgets\n",
    "from ipywidgets import widgets\n",
    "from IPython.display import display, clear_output"
   ]
  },
  {
   "cell_type": "markdown",
   "metadata": {},
   "source": [
    "### Dataframe and loading in the model"
   ]
  },
  {
   "cell_type": "code",
   "execution_count": 5,
   "metadata": {},
   "outputs": [],
   "source": [
    "df = pd.read_csv('Small_dataset_embeddings.csv')"
   ]
  },
  {
   "cell_type": "code",
   "execution_count": 8,
   "metadata": {},
   "outputs": [],
   "source": [
    "model = SentenceTransformer('mixedbread-ai/mxbai-embed-large-v1')"
   ]
  },
  {
   "cell_type": "markdown",
   "metadata": {},
   "source": [
    "### Embedding the text"
   ]
  },
  {
   "cell_type": "code",
   "execution_count": 11,
   "metadata": {},
   "outputs": [],
   "source": [
    "embedding = model.encode(df[\"text\"])\n",
    "embedding = embedding.tolist()\n",
    "df.insert(1,\"embedding\",embedding)"
   ]
  },
  {
   "cell_type": "code",
   "execution_count": 12,
   "metadata": {},
   "outputs": [
    {
     "name": "stdout",
     "output_type": "stream",
     "text": [
      "(25, 1024)\n"
     ]
    }
   ],
   "source": [
    "text_embeddings = np.vstack(df[\"embedding\"].values)\n",
    "print(text_embeddings.shape)"
   ]
  },
  {
   "cell_type": "markdown",
   "metadata": {},
   "source": [
    "### Defining the centroids"
   ]
  },
  {
   "cell_type": "code",
   "execution_count": 59,
   "metadata": {},
   "outputs": [],
   "source": [
    "centroid_indices = [23,15,9]\n",
    "category_names = [\"Career Opportunities\", \"Social Life\", \"Learning\"]"
   ]
  },
  {
   "cell_type": "code",
   "execution_count": 60,
   "metadata": {},
   "outputs": [],
   "source": [
    "centroid_embeddings = []\n",
    "for category in centroid_indices:\n",
    "    centroid_embeddings.append(df.embedding[category])\n",
    "\n",
    "centroid_embeddings = np.array(centroid_embeddings)"
   ]
  },
  {
   "cell_type": "code",
   "execution_count": 62,
   "metadata": {},
   "outputs": [
    {
     "name": "stdout",
     "output_type": "stream",
     "text": [
      "[[-0.10171032 -0.66125387  0.04628319 ... -0.3866047   0.58760482\n",
      "  -0.04861117]\n",
      " [ 0.08614749 -0.55423903 -0.52589643 ... -0.8194415   0.21966261\n",
      "  -0.50483477]\n",
      " [ 0.62528521  0.37743202 -1.17989814 ... -0.0089976  -0.14488989\n",
      "  -0.40004158]]\n"
     ]
    }
   ],
   "source": [
    "print(centroid_embeddings)"
   ]
  },
  {
   "cell_type": "markdown",
   "metadata": {},
   "source": [
    "### Scoring"
   ]
  },
  {
   "cell_type": "code",
   "execution_count": 63,
   "metadata": {},
   "outputs": [],
   "source": [
    "def embedding_score(text_embeddings, centroid_embeddings, alpha, metric, scaling, rounding=False):\n",
    "\n",
    "    # Check that the input is valid\n",
    "    assert scaling in [\"exponential\", \"power\"]\n",
    "    assert metric in [\"cosine\", \"euclidean\", \"cityblock\"]\n",
    "\n",
    "    # Calculating distances using scipy.spatial.distance.cdist function\n",
    "    # https://docs.scipy.org/doc/scipy/reference/generated/scipy.spatial.distance.cdist.html\n",
    "    distances = sc.spatial.distance.cdist(text_embeddings, centroid_embeddings, metric=metric)\n",
    "\n",
    "    # Scale and invert the distances according to the specified scaling\n",
    "    if scaling == \"exponential\":\n",
    "        score = 1/np.exp(alpha*distances)\n",
    "    if scaling == \"power\":\n",
    "        score = 1/(distances**alpha)\n",
    "\n",
    "    # L1 norm the scores to get a probability distribution\n",
    "    score /= score.sum(axis=1)[:,None]\n",
    "\n",
    "    # Round the scores to 2 decimals if specified\n",
    "    if rounding:\n",
    "        # Set all values below 0.01 to 0\n",
    "        score[score <=0.01] = 0\n",
    "        score /= score.sum(axis=1)[:,None]\n",
    "\n",
    "    return score"
   ]
  },
  {
   "cell_type": "markdown",
   "metadata": {},
   "source": [
    "#### Scoring with $\\alpha = 1$"
   ]
  },
  {
   "cell_type": "code",
   "execution_count": 64,
   "metadata": {},
   "outputs": [
    {
     "name": "stdout",
     "output_type": "stream",
     "text": [
      "[[0.22337168 0.23296672 0.5436616 ]\n",
      " [0.36213365 0.33066469 0.30720166]\n",
      " [0.32947928 0.32618503 0.3443357 ]\n",
      " [0.20835168 0.20070987 0.59093845]\n",
      " [0.32037715 0.3611624  0.31846046]]\n"
     ]
    },
    {
     "name": "stderr",
     "output_type": "stream",
     "text": [
      "C:\\Users\\maria\\AppData\\Local\\Temp\\ipykernel_14860\\3187089756.py:15: RuntimeWarning: divide by zero encountered in divide\n",
      "  score = 1/(distances**alpha)\n",
      "C:\\Users\\maria\\AppData\\Local\\Temp\\ipykernel_14860\\3187089756.py:18: RuntimeWarning: invalid value encountered in divide\n",
      "  score /= score.sum(axis=1)[:,None]\n"
     ]
    }
   ],
   "source": [
    "texts = text_embeddings   # the matrix of all the embeddings from earlier\n",
    "centroids = centroid_embeddings   # the embedded centroids we made in part 3\n",
    "\n",
    "alpha = 1    # an initial alpha value\n",
    "metric = 'cosine'   # Cosine Similarity\n",
    "scaling = 'power'   # Power scaling\n",
    "\n",
    "scores = embedding_score(texts, centroids, alpha, metric, scaling)\n",
    "\n",
    "print(scores[:5])"
   ]
  },
  {
   "cell_type": "markdown",
   "metadata": {},
   "source": [
    "#### Scoring with $\\alpha = 50$"
   ]
  },
  {
   "cell_type": "code",
   "execution_count": 43,
   "metadata": {},
   "outputs": [],
   "source": [
    "texts = text_embeddings   # the matrix of all the embeddings from earlier\n",
    "centroids = centroid_embeddings   # the embedded centroids we made in part 3\n",
    "\n",
    "alpha = 50    # an initial alpha value\n",
    "metric = 'cosine'   # Cosine Similarity\n",
    "scaling = 'power'   # Power scaling"
   ]
  },
  {
   "cell_type": "code",
   "execution_count": 44,
   "metadata": {},
   "outputs": [
    {
     "name": "stdout",
     "output_type": "stream",
     "text": [
      "[[4.84141326e-20 3.96516929e-19 1.00000000e+00]\n",
      " [9.89233764e-01 1.05013659e-02 2.64870212e-04]\n",
      " [9.36598800e-02 5.66694851e-02 8.49670635e-01]\n",
      " [2.30535336e-23 3.55896676e-24 1.00000000e+00]\n",
      " [2.48922432e-03 9.95666765e-01 1.84401031e-03]]\n"
     ]
    },
    {
     "name": "stderr",
     "output_type": "stream",
     "text": [
      "C:\\Users\\maria\\AppData\\Local\\Temp\\ipykernel_14860\\3187089756.py:15: RuntimeWarning: divide by zero encountered in divide\n",
      "  score = 1/(distances**alpha)\n",
      "C:\\Users\\maria\\AppData\\Local\\Temp\\ipykernel_14860\\3187089756.py:18: RuntimeWarning: invalid value encountered in divide\n",
      "  score /= score.sum(axis=1)[:,None]\n"
     ]
    }
   ],
   "source": [
    "scores = embedding_score(texts, centroids, alpha, metric, scaling)\n",
    "\n",
    "print(scores[:5])"
   ]
  },
  {
   "cell_type": "markdown",
   "metadata": {},
   "source": [
    "### Heatmap"
   ]
  },
  {
   "cell_type": "code",
   "execution_count": 68,
   "metadata": {},
   "outputs": [],
   "source": [
    "# @title Plotting function for heatmap\n",
    "def plot_heatmap(indices, alpha, metric, scaling, category_names):\n",
    "    import string\n",
    "    alphabet = list(string.ascii_lowercase)\n",
    "\n",
    "    red_colors = [(1, 0.95, 0.95), (1, 0.9, 0.9), (1, 0.4, 0.5),\n",
    "                  (0.95, 0.3, 0.4), (0.95, 0.2, 0.3), (0.7, 0.1, 0.2),\n",
    "                   (0.5, 0.08, 0.15)]\n",
    "    red_cmap = mcolors.LinearSegmentedColormap.from_list(\"custom\", red_colors, N=256)\n",
    "\n",
    "    # Plot heatmaps for all five articles as subplots in one figure\n",
    "    fig, ax = plt.subplots(len(indices),1, figsize=(10, len(indices)+2))\n",
    "    embedding_scores = embedding_score(text_embeddings, centroid_embeddings, alpha, metric, scaling)\n",
    "\n",
    "    # Create each of the subplot heatmaps\n",
    "    for i, index in enumerate(indices):\n",
    "        scores = np.vstack(embedding_scores[index, :]).T\n",
    "        gx = sns.heatmap(scores, cmap=red_cmap, annot=True, yticklabels=['Score'],\n",
    "                         xticklabels=range(1,len(category_names)+1), vmin=0, vmax=1, ax=ax[i], cbar=False, fmt='.2f')\n",
    "\n",
    "        # extra formating of the plot\n",
    "        gx.set_yticklabels(gx.get_yticklabels(), fontsize=9)\n",
    "        ax[i].text(-0.3, -0.2, f\"({alphabet[i]})\", fontsize=11, fontweight='bold')\n",
    "\n",
    "        # This line might need changes in order to be more usefull\n",
    "        ax[i].set_title(f'{df[\"text\"][index]}', fontweight='bold', fontsize=10)\n",
    "\n",
    "\n",
    "    legend_patches = [mpatches.Patch(color='white', label=(f'{i+1}: {category}')) for i, category in enumerate(category_names)]\n",
    "    fig.legend(handles=legend_patches, bbox_to_anchor=(1.05, 0.95), loc='upper left', frameon = False, ncol=1, prop={'size': 10, 'weight':'bold'})\n",
    "    fig.tight_layout(w_pad=2, h_pad=2)\n",
    "    plt.show()\n",
    "\n",
    "\n",
    "def update_heatmap(change):\n",
    "    if change['type'] == 'change' and change['name'] == 'value':\n",
    "        with output:\n",
    "            clear_output(wait=True)\n",
    "            scores = embedding_score(text_embeddings,\n",
    "                                     centroid_embeddings,\n",
    "                                     alpha_slider.value,\n",
    "                                      metric_selector.value,\n",
    "                                      scaling_selector.value,)\n",
    "            plot_heatmap([wid.value for wid in list_of_widgets], alpha_slider.value, metric.value, scaling.value, category_names)"
   ]
  },
  {
   "cell_type": "code",
   "execution_count": null,
   "metadata": {},
   "outputs": [],
   "source": [
    "plot_heatmap([wid.value for wid in list_of_widgets], alpha_slider.value, metric.value, scaling.value, category_names)"
   ]
  },
  {
   "cell_type": "code",
   "execution_count": 78,
   "metadata": {},
   "outputs": [
    {
     "data": {
      "application/vnd.jupyter.widget-view+json": {
       "model_id": "7a44432a8151426baefe0428cc29d49a",
       "version_major": 2,
       "version_minor": 0
      },
      "text/plain": [
       "HBox(children=(VBox(children=(BoundedIntText(value=0, description='Text Index:', layout=Layout(width='80%'), m…"
      ]
     },
     "metadata": {},
     "output_type": "display_data"
    },
    {
     "data": {
      "application/vnd.jupyter.widget-view+json": {
       "model_id": "a087a9a558224e128cc68cd6c9286c64",
       "version_major": 2,
       "version_minor": 0
      },
      "text/plain": [
       "Output()"
      ]
     },
     "metadata": {},
     "output_type": "display_data"
    }
   ],
   "source": [
    "# @title Interactive tool\n",
    "import ipywidgets as widgets\n",
    "\n",
    "nr_articles_for_heatmap = 25\n",
    "list_of_widgets = []\n",
    "style = {'description_width': 'initial'}\n",
    "\n",
    "for i in range(nr_articles_for_heatmap):\n",
    "    widget_i = widgets.BoundedIntText(\n",
    "        value=i,\n",
    "        min=0,\n",
    "        max=1761,\n",
    "        step=1,\n",
    "        description=f'Text Index:',\n",
    "        style=style,\n",
    "        layout=widgets.Layout(width='80%')\n",
    "    )\n",
    "    list_of_widgets.append(widget_i)\n",
    "\n",
    "alpha_slider = widgets.FloatSlider(\n",
    "    value=15,\n",
    "    min=0,\n",
    "    max=50,\n",
    "    step=0.1,\n",
    "    description='Alpha:',\n",
    "    style=style,\n",
    "    layout=widgets.Layout(width='90%')\n",
    ")\n",
    "\n",
    "metric = widgets.RadioButtons(\n",
    "    options=['euclidean', 'cosine', 'cityblock'],\n",
    "    description='Metric:',\n",
    "    value='cosine',\n",
    "    style=style,\n",
    "    layout=widgets.Layout(width='100%')\n",
    ")\n",
    "\n",
    "scaling = widgets.RadioButtons(\n",
    "    options=['power', 'exponential'],\n",
    "    description='Scaling:',\n",
    "    value='exponential',\n",
    "    style=style,\n",
    "    layout=widgets.Layout(width='100%')\n",
    ")\n",
    "\n",
    "for wid in list_of_widgets:\n",
    "    wid.observe(update_heatmap, names='value')\n",
    "\n",
    "alpha_slider.observe(update_heatmap, names='value')\n",
    "metric.observe(update_heatmap, names='value')\n",
    "scaling.observe(update_heatmap, names='value')\n",
    "\n",
    "\n",
    "widgets_box_top = widgets.VBox(list_of_widgets[0:4], layout=widgets.Layout(width='20%'))\n",
    "widgets_box_low = widgets.VBox(list_of_widgets[4:], layout=widgets.Layout(width='20%'))\n",
    "sub_widget_box_low = widgets.HBox([metric, scaling], layout=widgets.Layout(width='100%'))\n",
    "widgets_box_lowest = widgets.VBox([alpha_slider, sub_widget_box_low], layout=widgets.Layout(width='30%'))\n",
    "widgets_box = widgets.HBox([widgets_box_top, widgets_box_low, widgets_box_lowest])\n",
    "\n",
    "# Output widget\n",
    "output = widgets.Output()\n",
    "\n",
    "# Display initial heatmap\n",
    "with output:\n",
    "    plot_heatmap([wid.value for wid in list_of_widgets], alpha_slider.value, metric.value, scaling.value, category_names)\n",
    "\n",
    "display(widgets_box, output)\n"
   ]
  },
  {
   "cell_type": "markdown",
   "metadata": {},
   "source": [
    "### Pie Chart"
   ]
  },
  {
   "cell_type": "code",
   "execution_count": 76,
   "metadata": {},
   "outputs": [],
   "source": [
    "alpha = 10\n",
    "metric = 'cosine'\n",
    "scaling = 'exponential'"
   ]
  },
  {
   "cell_type": "code",
   "execution_count": 77,
   "metadata": {},
   "outputs": [
    {
     "data": {
      "image/png": "[encoded data removed]",
      "text/plain": [
       "<Figure size 640x480 with 1 Axes>"
      ]
     },
     "metadata": {},
     "output_type": "display_data"
    }
   ],
   "source": [
    "scores = embedding_score(text_embeddings, centroid_embeddings, alpha, metric, scaling)\n",
    "aggregate=np.sum(scores, axis=0)\n",
    "\n",
    "plt.pie(aggregate, labels=category_names, autopct=\"%1.1f%%\")\n",
    "plt.show()"
   ]
  }
 ],
 "metadata": {
  "kernelspec": {
   "display_name": "embed",
   "language": "python",
   "name": "python3"
  },
  "language_info": {
   "codemirror_mode": {
    "name": "ipython",
    "version": 3
   },
   "file_extension": ".py",
   "mimetype": "text/x-python",
   "name": "python",
   "nbconvert_exporter": "python",
   "pygments_lexer": "ipython3",
   "version": "3.12.3"
  }
 },
 "nbformat": 4,
 "nbformat_minor": 2
}
