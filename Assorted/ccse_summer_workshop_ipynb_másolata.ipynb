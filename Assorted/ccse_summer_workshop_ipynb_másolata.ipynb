{
  "cells": [
    {
      "cell_type": "markdown",
      "metadata": {
        "id": "SKZpc92Di5kL"
      },
      "source": [
        "# Performing iterature review with text embeddings.\n",
        "This notebook is a guide through our method for performing a literature review on text data with embeddings, which are numerical representations of a text's semantic meaning. It takes you all the way from importing the right packages to plotting the resulting results.\n",
        "\n",
        "The notebook is divided into six parts listed beneath. You will be taken to the listed part by pressing the corresponding hyperlink.\n",
        "\n",
        "1. [Imports](#imports) <br>\n",
        "2. [Make embeddings](#load-embeddings-and-expert-indices)<br>\n",
        "3. [Create centroids](#create-function) <br>\n",
        "4. [Scoring texts](#scoring_function) <br>\n",
        "5. [Histogram](#histogram)<br>\n",
        "6. [Heatmap](#heatmap)<br>\n"
      ]
    },
    {
      "cell_type": "markdown",
      "metadata": {
        "id": "sP_WbmVPjswu"
      },
      "source": [
        "<a class=\"anchor\" id=\"imports\"></a>\n",
        "\n",
        "## 1. Imports\n",
        "The following imports are necessary to apply our method."
      ]
    },
    {
      "cell_type": "code",
      "execution_count": 3,
      "metadata": {
        "colab": {
          "base_uri": "https://localhost:8080/"
        },
        "id": "MIPtB-L5xUUx",
        "outputId": "873267e5-e762-4a94-82d5-1485ba718114"
      },
      "outputs": [
        {
          "name": "stderr",
          "output_type": "stream",
          "text": [
            "DEPRECATION: Loading egg at c:\\users\\2002a\\work\\coding\\conda\\envs\\embed\\lib\\site-packages\\sacremoses-0.0.43-py3.8.egg is deprecated. pip 24.3 will enforce this behaviour change. A possible replacement is to use pip for package installation.. Discussion can be found at https://github.com/pypa/pip/issues/12330\n"
          ]
        },
        {
          "name": "stdout",
          "output_type": "stream",
          "text": [
            "Collecting seaborn\n",
            "  Downloading seaborn-0.13.2-py3-none-any.whl.metadata (5.4 kB)\n",
            "Requirement already satisfied: numpy!=1.24.0,>=1.20 in c:\\users\\2002a\\work\\coding\\conda\\envs\\embed\\lib\\site-packages (from seaborn) (1.26.4)\n",
            "Requirement already satisfied: pandas>=1.2 in c:\\users\\2002a\\work\\coding\\conda\\envs\\embed\\lib\\site-packages (from seaborn) (2.2.1)\n",
            "Requirement already satisfied: matplotlib!=3.6.1,>=3.4 in c:\\users\\2002a\\work\\coding\\conda\\envs\\embed\\lib\\site-packages (from seaborn) (3.8.4)\n",
            "Requirement already satisfied: contourpy>=1.0.1 in c:\\users\\2002a\\work\\coding\\conda\\envs\\embed\\lib\\site-packages (from matplotlib!=3.6.1,>=3.4->seaborn) (1.2.0)\n",
            "Requirement already satisfied: cycler>=0.10 in c:\\users\\2002a\\work\\coding\\conda\\envs\\embed\\lib\\site-packages (from matplotlib!=3.6.1,>=3.4->seaborn) (0.11.0)\n",
            "Requirement already satisfied: fonttools>=4.22.0 in c:\\users\\2002a\\work\\coding\\conda\\envs\\embed\\lib\\site-packages (from matplotlib!=3.6.1,>=3.4->seaborn) (4.51.0)\n",
            "Requirement already satisfied: kiwisolver>=1.3.1 in c:\\users\\2002a\\work\\coding\\conda\\envs\\embed\\lib\\site-packages (from matplotlib!=3.6.1,>=3.4->seaborn) (1.4.4)\n",
            "Requirement already satisfied: packaging>=20.0 in c:\\users\\2002a\\work\\coding\\conda\\envs\\embed\\lib\\site-packages (from matplotlib!=3.6.1,>=3.4->seaborn) (23.2)\n",
            "Requirement already satisfied: pillow>=8 in c:\\users\\2002a\\work\\coding\\conda\\envs\\embed\\lib\\site-packages (from matplotlib!=3.6.1,>=3.4->seaborn) (10.3.0)\n",
            "Requirement already satisfied: pyparsing>=2.3.1 in c:\\users\\2002a\\work\\coding\\conda\\envs\\embed\\lib\\site-packages (from matplotlib!=3.6.1,>=3.4->seaborn) (3.0.9)\n",
            "Requirement already satisfied: python-dateutil>=2.7 in c:\\users\\2002a\\work\\coding\\conda\\envs\\embed\\lib\\site-packages (from matplotlib!=3.6.1,>=3.4->seaborn) (2.9.0.post0)\n",
            "Requirement already satisfied: pytz>=2020.1 in c:\\users\\2002a\\work\\coding\\conda\\envs\\embed\\lib\\site-packages (from pandas>=1.2->seaborn) (2024.1)\n",
            "Requirement already satisfied: tzdata>=2022.7 in c:\\users\\2002a\\work\\coding\\conda\\envs\\embed\\lib\\site-packages (from pandas>=1.2->seaborn) (2023.3)\n",
            "Requirement already satisfied: six>=1.5 in c:\\users\\2002a\\work\\coding\\conda\\envs\\embed\\lib\\site-packages (from python-dateutil>=2.7->matplotlib!=3.6.1,>=3.4->seaborn) (1.16.0)\n",
            "Downloading seaborn-0.13.2-py3-none-any.whl (294 kB)\n",
            "   ---------------------------------------- 0.0/294.9 kB ? eta -:--:--\n",
            "   - -------------------------------------- 10.2/294.9 kB ? eta -:--:--\n",
            "   ---- ---------------------------------- 30.7/294.9 kB 435.7 kB/s eta 0:00:01\n",
            "   -------- ------------------------------ 61.4/294.9 kB 544.7 kB/s eta 0:00:01\n",
            "   ---------------------------------------- 294.9/294.9 kB 1.8 MB/s eta 0:00:00\n",
            "Installing collected packages: seaborn\n",
            "Successfully installed seaborn-0.13.2\n"
          ]
        },
        {
          "name": "stderr",
          "output_type": "stream",
          "text": [
            "DEPRECATION: Loading egg at c:\\users\\2002a\\work\\coding\\conda\\envs\\embed\\lib\\site-packages\\sacremoses-0.0.43-py3.8.egg is deprecated. pip 24.3 will enforce this behaviour change. A possible replacement is to use pip for package installation.. Discussion can be found at https://github.com/pypa/pip/issues/12330\n"
          ]
        }
      ],
      "source": [
        "# Importing the transformer\n",
        "!pip install sentence_transformers --quiet\n",
        "!pip install seaborn\n",
        "from sentence_transformers import SentenceTransformer\n",
        "\n",
        "# Basic imports\n",
        "import numpy as np\n",
        "import matplotlib.pyplot as plt\n",
        "import pickle\n",
        "import pandas as pd\n",
        "import scipy as sc\n",
        "\n",
        "# Special imports for plots\n",
        "import seaborn as sns\n",
        "import matplotlib.patches as mpatches\n",
        "import matplotlib.colors as mcolors\n",
        "\n",
        "# Imports for the widgets\n",
        "from ipywidgets import widgets\n",
        "from IPython.display import display, clear_output"
      ]
    },
    {
      "cell_type": "markdown",
      "metadata": {
        "id": "G2FAFBo2kFTC"
      },
      "source": [
        "<a class=\"anchor\" id=\"load_embeddings_and_expert_indices\"></a>\n",
        "\n",
        "## 2. Load data and make embeddings\n",
        "Load the data into a pandas DataFrame. Remember to make sure that the filepath is correct. The data should include a column with the text data."
      ]
    },
    {
      "cell_type": "code",
      "execution_count": 17,
      "metadata": {
        "colab": {
          "base_uri": "https://localhost:8080/",
          "height": 204
        },
        "id": "h-QkBEh6kKIc",
        "outputId": "365e451b-2dc1-4141-b760-d1f7be0dde36"
      },
      "outputs": [
        {
          "data": {
            "text/html": [
              "<div>\n",
              "<style scoped>\n",
              "    .dataframe tbody tr th:only-of-type {\n",
              "        vertical-align: middle;\n",
              "    }\n",
              "\n",
              "    .dataframe tbody tr th {\n",
              "        vertical-align: top;\n",
              "    }\n",
              "\n",
              "    .dataframe thead th {\n",
              "        text-align: right;\n",
              "    }\n",
              "</style>\n",
              "<table border=\"1\" class=\"dataframe\">\n",
              "  <thead>\n",
              "    <tr style=\"text-align: right;\">\n",
              "      <th></th>\n",
              "      <th>Data;;;;</th>\n",
              "    </tr>\n",
              "  </thead>\n",
              "  <tbody>\n",
              "    <tr>\n",
              "      <th>0</th>\n",
              "      <td>I am really interested in artificial intellige...</td>\n",
              "    </tr>\n",
              "    <tr>\n",
              "      <th>1</th>\n",
              "      <td>I wanted to be challenged academically speakin...</td>\n",
              "    </tr>\n",
              "    <tr>\n",
              "      <th>2</th>\n",
              "      <td>I thought it would be a good opportunity to co...</td>\n",
              "    </tr>\n",
              "    <tr>\n",
              "      <th>3</th>\n",
              "      <td>I wanted to learn more about artificial intell...</td>\n",
              "    </tr>\n",
              "    <tr>\n",
              "      <th>4</th>\n",
              "      <td>It offered an interdisciplinary education whic...</td>\n",
              "    </tr>\n",
              "  </tbody>\n",
              "</table>\n",
              "</div>"
            ],
            "text/plain": [
              "                                            Data;;;;\n",
              "0  I am really interested in artificial intellige...\n",
              "1  I wanted to be challenged academically speakin...\n",
              "2  I thought it would be a good opportunity to co...\n",
              "3  I wanted to learn more about artificial intell...\n",
              "4  It offered an interdisciplinary education whic..."
            ]
          },
          "execution_count": 17,
          "metadata": {},
          "output_type": "execute_result"
        }
      ],
      "source": [
        "df = pd.read_csv(\"https://raw.githubusercontent.com/Abdma03/INTED/main/Small%20dataset%20textembedding%201.csv\", encoding=\"Windows-1252\")\n",
        "df.head()"
      ]
    },
    {
      "cell_type": "markdown",
      "metadata": {
        "id": "6iRrWt1WkUjQ"
      },
      "source": [
        "To embed the articles we use the Sentence Transformer library, to download an embedding model. The library has a large number of pre-trained models, and we use a model from MixedBread AI called mxbai-embed-large-v1. This was chosen because it is a light model with solid performance on MTEB."
      ]
    },
    {
      "cell_type": "code",
      "execution_count": 18,
      "metadata": {
        "colab": {
          "base_uri": "https://localhost:8080/"
        },
        "id": "5nhzSFh9xUUy",
        "outputId": "4f4c90f4-05e6-4aa1-f7e6-100d5c2446d9"
      },
      "outputs": [
        {
          "name": "stderr",
          "output_type": "stream",
          "text": [
            "c:\\Users\\2002a\\Work\\Coding\\Conda\\envs\\embed\\Lib\\site-packages\\huggingface_hub\\file_download.py:1132: FutureWarning: `resume_download` is deprecated and will be removed in version 1.0.0. Downloads always resume when possible. If you want to force a new download, use `force_download=True`.\n",
            "  warnings.warn(\n"
          ]
        }
      ],
      "source": [
        "model = SentenceTransformer(\"mixedbread-ai/mxbai-embed-large-v1\")"
      ]
    },
    {
      "cell_type": "markdown",
      "metadata": {
        "id": "UcQYcI_okgL2"
      },
      "source": [
        "With the model sucsessfully loaded and the bars turned green, are we ready to use to model. It is as simple as calling **model.encode()**, with the text as input.\n",
        "\n",
        "We want to store the embeddings together with all the text and other potential metadata already present in our DataFrame. We therefore create a new column in the DataFrame called \"embedding\". Since our model will output a vector of length 1024, we store the vector as a list of 1024 elements. The dimensionality will vary between models so it is important to check the documentation of the model you are using, to see which dimensionality it is operating with. Common ones are 512, 768, 1536, and 3072.\n",
        "\n",
        "The below code loops over each row in the DataFrame, embeds the text at that row and then stores it back into the DataFrame. The output is a list of lists, where each list is the embedding of the corresponding text."
      ]
    },
    {
      "cell_type": "code",
      "execution_count": 22,
      "metadata": {
        "id": "wqg8q4mHk2y3"
      },
      "outputs": [],
      "source": [
        "embedding = model.encode(df[\"Data;;;;\"])\n",
        "embedding = embedding.tolist()\n",
        "df.insert(1,\"embedding\",embedding)"
      ]
    },
    {
      "cell_type": "markdown",
      "metadata": {
        "id": "Rehwun-3k7T0"
      },
      "source": [
        "Now, it is useful to inspect the DataFrame to make sure everything is in order. You should see a new column called **embedding** having emerged, filled with numbers in a list."
      ]
    },
    {
      "cell_type": "code",
      "execution_count": 23,
      "metadata": {
        "colab": {
          "base_uri": "https://localhost:8080/",
          "height": 204
        },
        "id": "roi9fWqkX5YM",
        "outputId": "23628041-6803-4528-da7a-ec1fd5201bec"
      },
      "outputs": [
        {
          "data": {
            "text/html": [
              "<div>\n",
              "<style scoped>\n",
              "    .dataframe tbody tr th:only-of-type {\n",
              "        vertical-align: middle;\n",
              "    }\n",
              "\n",
              "    .dataframe tbody tr th {\n",
              "        vertical-align: top;\n",
              "    }\n",
              "\n",
              "    .dataframe thead th {\n",
              "        text-align: right;\n",
              "    }\n",
              "</style>\n",
              "<table border=\"1\" class=\"dataframe\">\n",
              "  <thead>\n",
              "    <tr style=\"text-align: right;\">\n",
              "      <th></th>\n",
              "      <th>Data;;;;</th>\n",
              "      <th>embedding</th>\n",
              "    </tr>\n",
              "  </thead>\n",
              "  <tbody>\n",
              "    <tr>\n",
              "      <th>0</th>\n",
              "      <td>I am really interested in artificial intellige...</td>\n",
              "      <td>[-0.36321955919265747, 0.0804968848824501, -0....</td>\n",
              "    </tr>\n",
              "    <tr>\n",
              "      <th>1</th>\n",
              "      <td>I wanted to be challenged academically speakin...</td>\n",
              "      <td>[0.0946253091096878, -0.8166891932487488, -0.2...</td>\n",
              "    </tr>\n",
              "    <tr>\n",
              "      <th>2</th>\n",
              "      <td>I thought it would be a good opportunity to co...</td>\n",
              "      <td>[0.08060890436172485, -0.19674721360206604, -0...</td>\n",
              "    </tr>\n",
              "    <tr>\n",
              "      <th>3</th>\n",
              "      <td>I wanted to learn more about artificial intell...</td>\n",
              "      <td>[0.06022772938013077, 0.026954127475619316, -0...</td>\n",
              "    </tr>\n",
              "    <tr>\n",
              "      <th>4</th>\n",
              "      <td>It offered an interdisciplinary education whic...</td>\n",
              "      <td>[-0.10069331526756287, -0.1622166484594345, -0...</td>\n",
              "    </tr>\n",
              "  </tbody>\n",
              "</table>\n",
              "</div>"
            ],
            "text/plain": [
              "                                            Data;;;;  \\\n",
              "0  I am really interested in artificial intellige...   \n",
              "1  I wanted to be challenged academically speakin...   \n",
              "2  I thought it would be a good opportunity to co...   \n",
              "3  I wanted to learn more about artificial intell...   \n",
              "4  It offered an interdisciplinary education whic...   \n",
              "\n",
              "                                           embedding  \n",
              "0  [-0.36321955919265747, 0.0804968848824501, -0....  \n",
              "1  [0.0946253091096878, -0.8166891932487488, -0.2...  \n",
              "2  [0.08060890436172485, -0.19674721360206604, -0...  \n",
              "3  [0.06022772938013077, 0.026954127475619316, -0...  \n",
              "4  [-0.10069331526756287, -0.1622166484594345, -0...  "
            ]
          },
          "execution_count": 23,
          "metadata": {},
          "output_type": "execute_result"
        }
      ],
      "source": [
        "df.head()"
      ]
    },
    {
      "cell_type": "markdown",
      "metadata": {
        "id": "8jD-5t6fRNGw"
      },
      "source": [
        "For the calculations later on, it is useful to single out only the embeddings. Let us put these in a matrix."
      ]
    },
    {
      "cell_type": "code",
      "execution_count": 24,
      "metadata": {
        "colab": {
          "base_uri": "https://localhost:8080/"
        },
        "id": "5SjsIdjKRM4K",
        "outputId": "eb14f91b-7f8e-47df-fdd9-039a5e4b33f2"
      },
      "outputs": [
        {
          "name": "stdout",
          "output_type": "stream",
          "text": [
            "(25, 1024)\n"
          ]
        }
      ],
      "source": [
        "text_embeddings = np.vstack(df[\"embedding\"].values)\n",
        "print(text_embeddings.shape)"
      ]
    },
    {
      "cell_type": "markdown",
      "metadata": {
        "id": "Vnkl5ZJoCLxV"
      },
      "source": [
        "## 3. Create centroids\n",
        "\n",
        "The next step is to identify interesting points in space, called centroids. Centroids are the vector representation of the topic/class/theme etc. in the embedding space. There are two ways of identifying these spaces' vectors.\n",
        "\n",
        "A: The first way is to take the mean of the vectors of representative texts for each category.\n",
        "\n",
        "B: The second way is to embed a specialized text, formatted to represent the category you are looking for.\n",
        "\n",
        "We will show both options. You should do **EITHER** A **OR** B, but not both. Both options will end with a list of embeddings, representing the categories in the embedding space."
      ]
    },
    {
      "cell_type": "markdown",
      "metadata": {
        "id": "WrmzlkFwxUUz"
      },
      "source": [
        "#### 3A. Representative texts\n",
        "To do the first approach, you need two lists of equal length. We call these lists centroid_indices and category_names.\n",
        "\n",
        "- centroid_indices should be list of lists. The sublists have indices in them, which are the indices of the texts that you have selected as the representative texts for that category.\n",
        "- category_names should be a list of strings with the names of the different categories you have - typically the codes.\n",
        "\n",
        "Under we show how this would look if we had 3 categories.\n",
        "\n",
        "```python\n",
        "centroid_indices = [[3, 7, 18], [27, 14, 23], [53, 12, 9]]\n",
        "category_names = ['category 1', 'category 2', 'category 3']\n",
        "```\n",
        "Here the texts with index 3, 7 and 18 are considered to be representative of category 1. Texts 27, 14 and 23 are representative of category 2, and texts 53, 12 and 9 are representative of category 3.\n",
        "\n",
        "Beneath, we have picked out some representative texts (via the range function) and categories for the dataset that is downloaded from GitHub."
      ]
    },
    {
      "cell_type": "code",
      "execution_count": 27,
      "metadata": {
        "id": "MWx9cuJFotAg"
      },
      "outputs": [],
      "source": [
        "# For our mock dataset we suggest you use these indices\n",
        "centroid_indices = [23,15,9]\n",
        "category_names = [\"Career\", \"Social\", \"Learning\"]"
      ]
    },
    {
      "cell_type": "markdown",
      "metadata": {
        "id": "4tzFXdxnov-C"
      },
      "source": [
        "The next step is to fetch these embeddings, and calculate their mean. This will generate a single point in the high dimensional embedding space, which is where the category is situated. We will create an empty list called centroid_embeddings, and fill it with the mean of the embeddings per category."
      ]
    },
    {
      "cell_type": "code",
      "execution_count": 29,
      "metadata": {
        "id": "hCC4B3oaozgK"
      },
      "outputs": [],
      "source": [
        "centroid_embeddings = []\n",
        "\n",
        "for category in centroid_indices:\n",
        "  category_embeddings = []\n",
        "  \"\"\"for index in category: category_embeddings.append(df.embedding[index])\n",
        "  category_embedding_centroid = np.mean(category_embeddings, axis=0)\n",
        "  centroid_embeddings.append(category_embedding_centroid)\"\"\"\n",
        "\n",
        "centroid_embeddings = np.array(centroid_embeddings)"
      ]
    },
    {
      "cell_type": "markdown",
      "metadata": {
        "id": "BIZOpoXZo3qS"
      },
      "source": [
        "Now we have n=number of categories number of points in space, that represent these categories!"
      ]
    },
    {
      "cell_type": "markdown",
      "metadata": {
        "id": "FNYg3aOxo9ls"
      },
      "source": [
        "#### 3B. Curated text for embeddings\n",
        "To do the second approach, you need two lists of equal length. Here, we call these lists centroid_texts and again category_names.\n",
        "\n",
        "- centroid_texts should be list of lists. The sublists should have strings in them, which is the text you think is representative for that category.\n",
        "- category_names should be a list of strings with the names of the different categories you have - typically the codes.\n",
        "\n",
        "Under we show how this would look if we had 3 categories, and wrote three representative texts per category. In reality, you choose what and how many representative texts you wish to write.\n",
        "\n",
        "```python\n",
        "centroid_texts = [[\"representative text for category 1\", \"another representative text\", \"a third typical example of what the archtype of category 1 text looks like\"], [\"representative text for category 2\", \"another representative text\", \"a third typical example of what the archtype of category 2 text looks like\"], [\"representative text for category 3\", \"another representative text\", \"a third typical example of what the archtype of category 3 text looks like\"]]\n",
        "category_names = ['category 1', 'category 2', 'category 3']\n",
        "```\n"
      ]
    },
    {
      "cell_type": "markdown",
      "metadata": {
        "id": "yPQkCZq8pCJo"
      },
      "source": [
        "For longer texts and greater control, we suggest writing these texts externally, and then loading them into a list called centroid_texts. Make sure the format is right.\n",
        "\n",
        "Beneath, we have written some representative texts and categories for the dataset that is downloaded from GitHub."
      ]
    },
    {
      "cell_type": "code",
      "execution_count": 31,
      "metadata": {
        "id": "1lL8EOMcpDrG"
      },
      "outputs": [],
      "source": [
        "# For our mock dataset we suggest you use these texts\n",
        "centroid_texts = [[\"I heard good rumours about the studyprogram.\"],[\"I chose it because it seemed somewhat interesting and I had the grades to get in. I thought what do I have to lose? Worst case scenario I drop out and continue a regular bachelor.\"],[\"I was thinking that the other students would be driven and interested which would contribute to a unique study experience and environment\"]]\n",
        "category_names = [\"Career\", \"Social\", \"Learning\"]"
      ]
    },
    {
      "cell_type": "markdown",
      "metadata": {
        "id": "bwfJ6JtepIxg"
      },
      "source": [
        "The next step is to embed this texts, and calculate the mean of their embeddings. Here, as always, we call the model.encode() function. For each category, we embed the curated text, take their mean, and append that vector to the list"
      ]
    },
    {
      "cell_type": "code",
      "execution_count": 32,
      "metadata": {
        "id": "SNSmCnTKpOdO"
      },
      "outputs": [],
      "source": [
        "centroid_embeddings = []\n",
        "\n",
        "for category in centroid_texts:\n",
        "  category_embeddings = []\n",
        "  for representative_text in category:\n",
        "    representative_text_embedding = model.encode(representative_text)\n",
        "    category_embeddings.append(representative_text_embedding)\n",
        "  category_embedding_centroid = np.mean(category_embeddings, axis=0)\n",
        "  centroid_embeddings.append(category_embedding_centroid)\n",
        "\n",
        "\n",
        "centroid_embeddings = np.array(centroid_embeddings)"
      ]
    },
    {
      "cell_type": "markdown",
      "metadata": {
        "id": "Peo8cV8ypVi3"
      },
      "source": [
        "Now we have n=number of categories number of points in space, that represent these categories!"
      ]
    },
    {
      "cell_type": "markdown",
      "metadata": {
        "id": "GxZG8vj7xUUz"
      },
      "source": [
        "<a class=\"anchor\" id=\"scoring_function\"></a>\n",
        "\n",
        "## 4. Scoring texts\n",
        "\n",
        "The next step is to score each text. We calculate a text's score in each category, by measuring the similarity of every article to every centroid. This is done by calculating the distance from the embedding vector of an article to a centroid.\n",
        "\n",
        "Since we are operating in a space with numerous dimensions, it is possible to choose from a variety of metrics for measuring the distance. Common metrics include Euclidean, Manhattan/Cityblock, and Cosine Similarity. Our preferred metric is Cosine Similarity.\n",
        "\n",
        "Another feature of a high-dimensional space is that all distances tend to be similar. However, small changes in distance have large semantical implications. There is therefore a need for a scaling mechanism. There are several choices for a scaling algorithm, but we have singled out two promising paths - the power scale or the exponential scale.\n",
        "\n",
        "Both alternatives present a tunable scaling variable $\\alpha$, which helps determine the how mixed the model is. Finding a meaningful alpha value is important, and will be a key point of argument.\n",
        "\n",
        "Finally, as we want all articles to fully belong to something, the scores are normalized for comparability."
      ]
    },
    {
      "cell_type": "code",
      "execution_count": 33,
      "metadata": {
        "id": "2m64qGl6xvvV"
      },
      "outputs": [],
      "source": [
        "def embedding_score(text_embeddings, centroid_embeddings, alpha, metric, scaling, rounding=False):\n",
        "\n",
        "    # Check that the input is valid\n",
        "    assert scaling in [\"exponential\", \"power\"]\n",
        "    assert metric in [\"cosine\", \"euclidean\", \"cityblock\"]\n",
        "\n",
        "    # Calculating distances using scipy.spatial.distance.cdist function\n",
        "    # https://docs.scipy.org/doc/scipy/reference/generated/scipy.spatial.distance.cdist.html\n",
        "    distances = sc.spatial.distance.cdist(text_embeddings, centroid_embeddings, metric=metric)\n",
        "\n",
        "    # Scale and invert the distances according to the specified scaling\n",
        "    if scaling == \"exponential\":\n",
        "        score = 1/np.exp(alpha*distances)\n",
        "    if scaling == \"power\":\n",
        "        score = 1/(distances**alpha)\n",
        "\n",
        "    # L1 norm the scores to get a probability distribution\n",
        "    score /= score.sum(axis=1)[:,None]\n",
        "\n",
        "    # Round the scores to 2 decimals if specified\n",
        "    if rounding:\n",
        "        # Set all values below 0.01 to 0\n",
        "        score[score <=0.01] = 0\n",
        "        score /= score.sum(axis=1)[:,None]\n",
        "\n",
        "    return score"
      ]
    },
    {
      "cell_type": "markdown",
      "metadata": {
        "id": "T7Fakz93ti6_"
      },
      "source": [
        "What parameters to select will be dependent on the data you have. For now, let us set some initial values."
      ]
    },
    {
      "cell_type": "code",
      "execution_count": 34,
      "metadata": {
        "id": "mXxbAnPBQ68r"
      },
      "outputs": [],
      "source": [
        "texts = text_embeddings   # the matrix of all the embeddings from earlier\n",
        "centroids = centroid_embeddings   # the embedded centroids we made in part 3\n",
        "\n",
        "alpha = 50    # an initial alpha value\n",
        "metric = 'cosine'   # Cosine Similarity\n",
        "scaling = 'power'   # Power scaling"
      ]
    },
    {
      "cell_type": "markdown",
      "metadata": {
        "id": "1ft_eP1iSr1Q"
      },
      "source": [
        "Having these values, let us calculate and look at some scores."
      ]
    },
    {
      "cell_type": "code",
      "execution_count": 35,
      "metadata": {
        "colab": {
          "base_uri": "https://localhost:8080/"
        },
        "id": "7c1kVAElSwNO",
        "outputId": "f23b22da-befb-4aaf-e5dc-f774aef83a61"
      },
      "outputs": [
        {
          "name": "stdout",
          "output_type": "stream",
          "text": [
            "[[8.37360793e-06 2.35756146e-03 9.97634065e-01]\n",
            " [4.37753598e-10 8.49125621e-06 9.99991508e-01]\n",
            " [4.67923353e-08 3.14890133e-08 9.99999922e-01]\n",
            " [1.70855235e-05 6.78226964e-05 9.99915092e-01]\n",
            " [1.27282377e-09 8.54363343e-09 9.99999990e-01]]\n"
          ]
        }
      ],
      "source": [
        "scores = embedding_score(texts, centroids, alpha, metric, scaling)\n",
        "\n",
        "print(scores[:5])"
      ]
    },
    {
      "cell_type": "markdown",
      "metadata": {
        "id": "-e0JXpYqS2CC"
      },
      "source": [
        "What we see here is that these scores have very little mixedness - that is, each sentence firmly belongs to one camp. This is the mixedness that can be tuned by the alpha parameter. Let us try again, with alpha at 1."
      ]
    },
    {
      "cell_type": "code",
      "execution_count": 36,
      "metadata": {
        "colab": {
          "base_uri": "https://localhost:8080/"
        },
        "id": "N0JbrBdqHIUW",
        "outputId": "e1c601a3-85a6-4641-8891-e69b07e71619"
      },
      "outputs": [
        {
          "name": "stdout",
          "output_type": "stream",
          "text": [
            "[[0.29561682 0.33091782 0.37346536]\n",
            " [0.26616433 0.32426845 0.40956722]\n",
            " [0.29467053 0.29234549 0.41298398]\n",
            " [0.30548665 0.31402713 0.38048622]\n",
            " [0.28208032 0.29302878 0.4248909 ]]\n"
          ]
        }
      ],
      "source": [
        "texts = text_embeddings   # the matrix of all the embeddings from earlier\n",
        "centroids = centroid_embeddings   # the embedded centroids we made in part 3\n",
        "\n",
        "alpha = 1    # an initial alpha value\n",
        "metric = 'cosine'   # Cosine Similarity\n",
        "scaling = 'power'   # Power scaling\n",
        "\n",
        "scores = embedding_score(texts, centroids, alpha, metric, scaling)\n",
        "\n",
        "print(scores[:5])"
      ]
    },
    {
      "cell_type": "markdown",
      "metadata": {
        "id": "dF0hDVIJHNMP"
      },
      "source": [
        "Here, the texts show a much more homogeneous score distribution. A helpful tool for determining what hyperparameters to use is a histogram.  "
      ]
    },
    {
      "cell_type": "markdown",
      "metadata": {
        "id": "Ph6kXNVVxpPV"
      },
      "source": [
        "<a class=\"anchor\" id=\"histogram\"></a>\n",
        "\n",
        "## 5. Histogram\n",
        "\n",
        "We use histograms of the score distributions to easily determine the alpha value based on the desired mixedness of the model. Different models and different datasets require different kinds of distribution. The plot shows how high the primary, secondary, etc. scores are.\n",
        "\n",
        "Below, we create a function for plotting the histogram, and another for updating it."
      ]
    },
    {
      "cell_type": "code",
      "execution_count": 41,
      "metadata": {
        "cellView": "form",
        "id": "e9uSncPLx-Jo"
      },
      "outputs": [],
      "source": [
        "# @title Plotting functions for histogram\n",
        "# Plotting function\n",
        "def plot_histogram(alpha, metric, scaling, nr_of_hist):\n",
        "\n",
        "    # Create the scores from alpha, metric and scaling\n",
        "    scores = embedding_score(text_embeddings, centroid_embeddings, alpha, metric, scaling)\n",
        "\n",
        "    #color and shading for plotting\n",
        "    colors = [plt.cm.viridis(i) for i in np.linspace(0, 1, nr_of_hist)]\n",
        "    alpha_shading = np.linspace(1, 0.4, nr_of_hist)\n",
        "\n",
        "    # Plot the histogram in figure\n",
        "    fig, ax = plt.subplots(figsize=(10, 5))\n",
        "    for i in range(nr_of_hist):\n",
        "        plot_data = np.partition(scores, -i-1, axis=1)[:, -i-1]\n",
        "        # plot_data is the number i+1 largest value in scores, across all scores\n",
        "        # Plot histogram\n",
        "        ax.hist(plot_data, bins=50, alpha=alpha_shading[i], color=colors[i])\n",
        "\n",
        "    # Make plot nice\n",
        "    ax.set_ylabel(\"Count\")\n",
        "    ax.set_xlabel(\"Score\")\n",
        "    ax.spines['right'].set_visible(False)\n",
        "    ax.spines['top'].set_visible(False)\n",
        "    ax.set_xlim(left=0, right=1)\n",
        "    fig.tight_layout(pad=3.0)\n",
        "\n",
        "    # Legend creation\n",
        "    labels = [f'{i+1}. score' for i in range(nr_of_hist)]\n",
        "    handles = [mpatches.Patch(color=colors[i], label=f'Hist {i+1}') for i in range(nr_of_hist)]\n",
        "    fig.legend(handles=handles, labels=labels, loc='right')\n",
        "    plt.show()\n",
        "\n",
        "\n",
        "# Callback for updating histogram\n",
        "def update_histogram(change):\n",
        "    if change['type'] == 'change' and change['name'] == 'value':\n",
        "        with output:\n",
        "            clear_output(wait=True)\n",
        "            plot_histogram(alpha_slider.value, metric_selector.value, scaling_selector.value, nr_of_hist_selector.value)\n"
      ]
    },
    {
      "cell_type": "markdown",
      "metadata": {
        "id": "0F--ItpKJNBL"
      },
      "source": [
        "Having defined these functions, we create an interactive tool useful for exploring different hyperparameters."
      ]
    },
    {
      "cell_type": "code",
      "execution_count": 42,
      "metadata": {
        "cellView": "form",
        "colab": {
          "base_uri": "https://localhost:8080/",
          "height": 581,
          "referenced_widgets": [
            "a583543102bc4e4c8a7cb3ee651a1b50",
            "77caae1e3e234ffd84d4b5cae2342655",
            "00ba53b5f3b0407882d01392342a6818",
            "2ab4f9499f914339b35beef7e9cd708c",
            "95bad215b31144549985bf64e673c7a6",
            "8ff3867c143b40429e2eebf2bf83fa64",
            "387f86a672fe40c0a34d8f581cc1313a",
            "69555b4a4dc84a6384579347459441cb",
            "70b864151f7f41d799474efd19068096",
            "b8097139650e4bfca008e020be999726",
            "752ca88402934e7a8a52af98faac0b19",
            "65cfcf8b595341f2be6d06794eca05ed",
            "831d16dc2ee842afada2b480e706e901",
            "31809aef14714635b245bef64a99ed77",
            "c8221b35fe934b649b73809542653f2a",
            "919e0f86bb4b4f33b9f5d0229e439c0b",
            "75a9842b6e724d1a884dae4efefecf0f",
            "a333cee8d7604323888b1582c421d42c",
            "b7090156597d467898dff29cf3b35344",
            "e5dab75b807e40158dec7aaed179727e"
          ]
        },
        "id": "84TwfiJ_Ik4a",
        "outputId": "ee3def45-be4b-4339-a024-7c0ef67b0b3c"
      },
      "outputs": [
        {
          "data": {
            "application/vnd.jupyter.widget-view+json": {
              "model_id": "9309e53f80454557982b96d294ddf64a",
              "version_major": 2,
              "version_minor": 0
            },
            "text/plain": [
              "VBox(children=(HBox(children=(RadioButtons(description='Metric:', index=1, options=('euclidean', 'cosine', 'ci…"
            ]
          },
          "metadata": {},
          "output_type": "display_data"
        }
      ],
      "source": [
        "# @title Interactive tool\n",
        "# Widgets\n",
        "metric_selector = widgets.RadioButtons(\n",
        "    options=['euclidean', 'cosine', 'cityblock'],\n",
        "    description='Metric:',\n",
        "    value = 'cosine',\n",
        "    tooltip='Select the metric for calculating the distance'\n",
        "    )\n",
        "scaling_selector = widgets.RadioButtons(\n",
        "    options=['power', 'exponential'],\n",
        "    description='Scaling:', value='exponential',\n",
        "    tooltip='Select the scaling type for the scores'\n",
        "    )\n",
        "alpha_slider = widgets.FloatSlider(\n",
        "    value=15, min=0.0, max=300.0, description='Alpha:',\n",
        "    continuous_update=True,\n",
        "    tooltip='Select the amount of scaling'\n",
        "    )\n",
        "nr_of_hist_selector = widgets.IntSlider(\n",
        "    value=3, min=1, max=len(category_names),\n",
        "    step=1, description='Nr of histograms:',\n",
        "    continuou_update=True,\n",
        "    tooltip='Select the number of histograms to display'\n",
        "    )\n",
        "\n",
        "alpha_slider.observe(update_histogram, names='value')\n",
        "metric_selector.observe(update_histogram, names='value')\n",
        "scaling_selector.observe(update_histogram, names='value')\n",
        "nr_of_hist_selector.observe(update_histogram, names='value')\n",
        "\n",
        "# Output widget\n",
        "output = widgets.Output()\n",
        "\n",
        "# Display initial histogram\n",
        "with output:\n",
        "    plot_histogram(alpha_slider.value, metric_selector.value, scaling_selector.value, nr_of_hist_selector.value)\n",
        "\n",
        "# First line of widgets\n",
        "first_line = widgets.HBox([metric_selector, scaling_selector, nr_of_hist_selector])\n",
        "\n",
        "# Alpha slider with an extended width\n",
        "alpha_slider.layout = widgets.Layout(width='100%')  # Adjust the width percentage as needed\n",
        "\n",
        "# Second line of widgets (alpha slider)\n",
        "second_line = widgets.HBox([alpha_slider], layout=widgets.Layout(justify_content='center'))\n",
        "\n",
        "# Combine both lines in a VBox\n",
        "widget_box = widgets.VBox([first_line, second_line, output])\n",
        "\n",
        "display(widget_box)"
      ]
    },
    {
      "cell_type": "markdown",
      "metadata": {
        "id": "IfGJ6LH3NByZ"
      },
      "source": [
        "<a class=\"anchor\" id=\"heatmap\"></a>\n",
        "\n",
        "## 6. Heatmap"
      ]
    },
    {
      "cell_type": "markdown",
      "metadata": {
        "id": "F1YvriJSyMg2"
      },
      "source": [
        "Having set a preliminary alpha value based on the histogram, it may be useful to inspect individual texts. A heatmap provides a way of getting some face validity on the actual data points, as it showes the scores of individual texts in a simple and informative manner. Below, we define the plotting function and a function for updating the heatmap."
      ]
    },
    {
      "cell_type": "code",
      "execution_count": 43,
      "metadata": {
        "id": "i4a1zJBoIrkX"
      },
      "outputs": [],
      "source": [
        "# @title Plotting function for heatmap\n",
        "def plot_heatmap(indices, alpha, metric, scaling, category_names):\n",
        "    import string\n",
        "    alphabet = list(string.ascii_lowercase)\n",
        "\n",
        "    red_colors = [(1, 0.95, 0.95), (1, 0.9, 0.9), (1, 0.4, 0.5),\n",
        "                  (0.95, 0.3, 0.4), (0.95, 0.2, 0.3), (0.7, 0.1, 0.2),\n",
        "                   (0.5, 0.08, 0.15)]\n",
        "    red_cmap = mcolors.LinearSegmentedColormap.from_list(\"custom\", red_colors, N=256)\n",
        "\n",
        "    # Plot heatmaps for all five articles as subplots in one figure\n",
        "    fig, ax = plt.subplots(len(indices),1, figsize=(10, len(indices)+2))\n",
        "    embedding_scores = embedding_score(text_embeddings, centroid_embeddings, alpha, metric, scaling)\n",
        "\n",
        "    # Create each of the subplot heatmaps\n",
        "    for i, index in enumerate(indices):\n",
        "        scores = np.vstack(embedding_scores[index, :]).T\n",
        "        gx = sns.heatmap(scores, cmap=red_cmap, annot=True, yticklabels=['Score'],\n",
        "                         xticklabels=range(1,len(category_names)+1), vmin=0, vmax=1, ax=ax[i], cbar=False, fmt='.2f')\n",
        "\n",
        "        # extra formating of the plot\n",
        "        gx.set_yticklabels(gx.get_yticklabels(), fontsize=9)\n",
        "        ax[i].text(-0.3, -0.2, f\"({alphabet[i]})\", fontsize=11, fontweight='bold')\n",
        "\n",
        "        # This line might need changes in order to be more usefull\n",
        "        ax[i].set_title(f'{df[\"text\"][index]}', fontweight='bold', fontsize=10)\n",
        "\n",
        "\n",
        "    legend_patches = [mpatches.Patch(color='white', label=(f'{i+1}: {category}')) for i, category in enumerate(category_names)]\n",
        "    fig.legend(handles=legend_patches, bbox_to_anchor=(1.05, 0.95), loc='upper left', frameon = False, ncol=1, prop={'size': 10, 'weight':'bold'})\n",
        "    fig.tight_layout(w_pad=2, h_pad=2)\n",
        "    plt.show()\n",
        "\n",
        "\n",
        "def update_heatmap(change):\n",
        "    if change['type'] == 'change' and change['name'] == 'value':\n",
        "        with output:\n",
        "            clear_output(wait=True)\n",
        "            scores = embedding_score(text_embeddings,\n",
        "                                     centroid_embeddings,\n",
        "                                     alpha_slider.value,\n",
        "                                      metric_selector.value,\n",
        "                                      scaling_selector.value,)\n",
        "            plot_heatmap([wid.value for wid in list_of_widgets], alpha_slider.value, metric.value, scaling.value, category_names)"
      ]
    },
    {
      "cell_type": "markdown",
      "metadata": {
        "id": "8u747hP2PO6b"
      },
      "source": [
        "Having defined these functions, we create an interactive tool."
      ]
    },
    {
      "cell_type": "code",
      "execution_count": 44,
      "metadata": {
        "colab": {
          "base_uri": "https://localhost:8080/",
          "height": 1000,
          "referenced_widgets": [
            "8b82606cafd64e0a8a8beca9f5df853e",
            "feba2ab4f7444568abfedd43f2f7d80b",
            "e4cbc9575dc149978713f228d14df264",
            "a5b71bf89ebb4d45aabdaf420ca1b1a5",
            "0c862ff25fe0468faea18093a361113b",
            "67273406504744f1aa5ffc7ca7c3f700",
            "40794833e4ea4f5ab4982b7d10deba35",
            "69c40768756442718d1a17f1aecf94fe",
            "84e6135030ca4e5db79e2852268be8c7",
            "10b882acac6047529b5c6c4a563730ff",
            "ce81b44de58b4d9194a8e27958da5a64",
            "73c1c283848645bcb8ba49b24103963a",
            "f91380806e1b45ba833d3e01f5a35e27",
            "35f28c50698c45358aa03b030d911463",
            "c3cab2bcf11a4bf383cd46af787819b7",
            "e69f53422dd14834b80bf2bcf055e370",
            "2a1c985f63a543e99e64ef684c5200c1",
            "40ed8f0eaa1d4fa4a62be21da2f0dbbe",
            "c892c93732e546bd91060f6f3a9a35a7",
            "d8dff0f4bd524e68a2aa33d3e19bc367",
            "e0a65ddc525b43b4987e02af9502ab06",
            "5c3203fd090f4a578b26494cb6c1f3fd",
            "7a98b510e86a4d3696b97e6af18bd4d5",
            "ca4817a094d14041b80838f14fd1761d",
            "3d5248d7416e445baca380ea63024ed6",
            "031c27fe39c44c5a8201a53277bde04a",
            "f8037b2a001f40f0b2074ffc435dd855",
            "92302e05289049c69ca55950dd77a9b3",
            "47eff9c851014cad8473ec8b71c531d7",
            "ac311e2aff6c4c50a53ae381af8e9dcd",
            "fb0536fd14d24963955717551eecfc54",
            "d5fae35bf1404a0ba9cb971c00d6ce50",
            "dff997329e3b4776a2bd510337955557",
            "6eeb60a706cf435286afb5a447c5240d",
            "84237ec6a9754ac589c7b7c6ed056280",
            "45081d6c4eff4eeba09caa144920838e",
            "f47db1cc48c448818edc8f5af41028e8",
            "8ca2676e65d64ab8a6389da05662d9fe",
            "fad1b724d94a420e97cd46a850727059",
            "e80677ee9b504e0b8a9336a0fcfabf7b",
            "77bd70d9cee547ada1127eaa5927c96d",
            "2aa7c26f941f4617a3c8c9a39591f8d2",
            "7558b24e1c93425a90cf8689b93ca621",
            "f319f6d974c44542bda9ff74ff35f33f",
            "35b17320c8c04592ae1f820c13ed8485"
          ]
        },
        "id": "gDZn5X5KPMeo",
        "outputId": "4916a0a4-8e17-4783-ca89-2517028e4325"
      },
      "outputs": [
        {
          "data": {
            "application/vnd.jupyter.widget-view+json": {
              "model_id": "a3225ce21fa34e3fa0a23f239981d681",
              "version_major": 2,
              "version_minor": 0
            },
            "text/plain": [
              "HBox(children=(VBox(children=(BoundedIntText(value=4, description='Text Index:', layout=Layout(width='80%'), m…"
            ]
          },
          "metadata": {},
          "output_type": "display_data"
        },
        {
          "data": {
            "application/vnd.jupyter.widget-view+json": {
              "model_id": "5a75c51aee494ca4a4b66d1900dfd2df",
              "version_major": 2,
              "version_minor": 0
            },
            "text/plain": [
              "Output()"
            ]
          },
          "metadata": {},
          "output_type": "display_data"
        },
        {
          "data": {
            "image/png": "[encoded data removed]",
            "text/plain": [
              "<Figure size 1000x1000 with 8 Axes>"
            ]
          },
          "metadata": {},
          "output_type": "display_data"
        }
      ],
      "source": [
        "# @title Interactive tool\n",
        "import ipywidgets as widgets\n",
        "\n",
        "nr_articles_for_heatmap = 8\n",
        "list_of_widgets = []\n",
        "style = {'description_width': 'initial'}\n",
        "\n",
        "for i in range(nr_articles_for_heatmap):\n",
        "    widget_i = widgets.BoundedIntText(\n",
        "        value=i+4,\n",
        "        min=0,\n",
        "        max=1761,\n",
        "        step=1,\n",
        "        description=f'Text Index:',\n",
        "        style=style,\n",
        "        layout=widgets.Layout(width='80%')\n",
        "    )\n",
        "    list_of_widgets.append(widget_i)\n",
        "\n",
        "alpha_slider = widgets.FloatSlider(\n",
        "    value=15,\n",
        "    min=0,\n",
        "    max=50,\n",
        "    step=0.1,\n",
        "    description='Alpha:',\n",
        "    style=style,\n",
        "    layout=widgets.Layout(width='90%')\n",
        ")\n",
        "\n",
        "metric = widgets.RadioButtons(\n",
        "    options=['euclidean', 'cosine', 'cityblock'],\n",
        "    description='Metric:',\n",
        "    value='cosine',\n",
        "    style=style,\n",
        "    layout=widgets.Layout(width='100%')\n",
        ")\n",
        "\n",
        "scaling = widgets.RadioButtons(\n",
        "    options=['power', 'exponential'],\n",
        "    description='Scaling:',\n",
        "    value='exponential',\n",
        "    style=style,\n",
        "    layout=widgets.Layout(width='100%')\n",
        ")\n",
        "\n",
        "for wid in list_of_widgets:\n",
        "    wid.observe(update_heatmap, names='value')\n",
        "\n",
        "alpha_slider.observe(update_heatmap, names='value')\n",
        "metric.observe(update_heatmap, names='value')\n",
        "scaling.observe(update_heatmap, names='value')\n",
        "\n",
        "\n",
        "widgets_box_top = widgets.VBox(list_of_widgets[0:4], layout=widgets.Layout(width='20%'))\n",
        "widgets_box_low = widgets.VBox(list_of_widgets[4:], layout=widgets.Layout(width='20%'))\n",
        "sub_widget_box_low = widgets.HBox([metric, scaling], layout=widgets.Layout(width='100%'))\n",
        "widgets_box_lowest = widgets.VBox([alpha_slider, sub_widget_box_low], layout=widgets.Layout(width='30%'))\n",
        "widgets_box = widgets.HBox([widgets_box_top, widgets_box_low, widgets_box_lowest])\n",
        "\n",
        "# Output widget\n",
        "output = widgets.Output()\n",
        "\n",
        "# Display initial heatmap\n",
        "with output:\n",
        "    plot_heatmap([wid.value for wid in list_of_widgets], alpha_slider.value, metric.value, scaling.value, category_names)\n",
        "\n",
        "display(widgets_box, output)\n"
      ]
    },
    {
      "cell_type": "markdown",
      "metadata": {
        "id": "94LlXnbTQugZ"
      },
      "source": [
        "It may be useful to see the aggregate scores in a pie chart. First, set the parameters found in the previous sections. Then, create the chart by summing the scores per category."
      ]
    },
    {
      "cell_type": "code",
      "execution_count": 45,
      "metadata": {
        "id": "HFpq1fv_VyFq"
      },
      "outputs": [],
      "source": [
        "alpha = 10\n",
        "metric = 'cosine'\n",
        "scaling = 'exponential'"
      ]
    },
    {
      "cell_type": "code",
      "execution_count": 46,
      "metadata": {
        "colab": {
          "base_uri": "https://localhost:8080/",
          "height": 406
        },
        "id": "pC9hHwtvQs4c",
        "outputId": "bc085a9e-2abd-4432-9f00-f07676e270a0"
      },
      "outputs": [
        {
          "data": {
            "image/png": "[encoded data removed]",
            "text/plain": [
              "<Figure size 640x480 with 1 Axes>"
            ]
          },
          "metadata": {},
          "output_type": "display_data"
        }
      ],
      "source": [
        "scores = embedding_score(text_embeddings, centroid_embeddings, alpha, metric, scaling)\n",
        "aggregate=np.sum(scores, axis=0)\n",
        "\n",
        "plt.pie(aggregate, labels=category_names, autopct=\"%1.1f%%\")\n",
        "plt.show()"
      ]
    }
  ],
  "metadata": {
    "colab": {
      "provenance": []
    },
    "kernelspec": {
      "display_name": "test_venv",
      "language": "python",
      "name": "python3"
    },
    "language_info": {
      "codemirror_mode": {
        "name": "ipython",
        "version": 3
      },
      "file_extension": ".py",
      "mimetype": "text/x-python",
      "name": "python",
      "nbconvert_exporter": "python",
      "pygments_lexer": "ipython3",
      "version": "3.12.3"
    },
    "widgets": {
      "application/vnd.jupyter.widget-state+json": {
        "00ba53b5f3b0407882d01392342a6818": {
          "model_module": "@jupyter-widgets/controls",
          "model_module_version": "1.5.0",
          "model_name": "HBoxModel",
          "state": {
            "_dom_classes": [],
            "_model_module": "@jupyter-widgets/controls",
            "_model_module_version": "1.5.0",
            "_model_name": "HBoxModel",
            "_view_count": null,
            "_view_module": "@jupyter-widgets/controls",
            "_view_module_version": "1.5.0",
            "_view_name": "HBoxView",
            "box_style": "",
            "children": [
              "IPY_MODEL_b8097139650e4bfca008e020be999726"
            ],
            "layout": "IPY_MODEL_752ca88402934e7a8a52af98faac0b19"
          }
        },
        "031c27fe39c44c5a8201a53277bde04a": {
          "model_module": "@jupyter-widgets/controls",
          "model_module_version": "1.5.0",
          "model_name": "DescriptionStyleModel",
          "state": {
            "_model_module": "@jupyter-widgets/controls",
            "_model_module_version": "1.5.0",
            "_model_name": "DescriptionStyleModel",
            "_view_count": null,
            "_view_module": "@jupyter-widgets/base",
            "_view_module_version": "1.2.0",
            "_view_name": "StyleView",
            "description_width": "initial"
          }
        },
        "0c862ff25fe0468faea18093a361113b": {
          "model_module": "@jupyter-widgets/base",
          "model_module_version": "1.2.0",
          "model_name": "LayoutModel",
          "state": {
            "_model_module": "@jupyter-widgets/base",
            "_model_module_version": "1.2.0",
            "_model_name": "LayoutModel",
            "_view_count": null,
            "_view_module": "@jupyter-widgets/base",
            "_view_module_version": "1.2.0",
            "_view_name": "LayoutView",
            "align_content": null,
            "align_items": null,
            "align_self": null,
            "border": null,
            "bottom": null,
            "display": null,
            "flex": null,
            "flex_flow": null,
            "grid_area": null,
            "grid_auto_columns": null,
            "grid_auto_flow": null,
            "grid_auto_rows": null,
            "grid_column": null,
            "grid_gap": null,
            "grid_row": null,
            "grid_template_areas": null,
            "grid_template_columns": null,
            "grid_template_rows": null,
            "height": null,
            "justify_content": null,
            "justify_items": null,
            "left": null,
            "margin": null,
            "max_height": null,
            "max_width": null,
            "min_height": null,
            "min_width": null,
            "object_fit": null,
            "object_position": null,
            "order": null,
            "overflow": null,
            "overflow_x": null,
            "overflow_y": null,
            "padding": null,
            "right": null,
            "top": null,
            "visibility": null,
            "width": null
          }
        },
        "10b882acac6047529b5c6c4a563730ff": {
          "model_module": "@jupyter-widgets/base",
          "model_module_version": "1.2.0",
          "model_name": "LayoutModel",
          "state": {
            "_model_module": "@jupyter-widgets/base",
            "_model_module_version": "1.2.0",
            "_model_name": "LayoutModel",
            "_view_count": null,
            "_view_module": "@jupyter-widgets/base",
            "_view_module_version": "1.2.0",
            "_view_name": "LayoutView",
            "align_content": null,
            "align_items": null,
            "align_self": null,
            "border": null,
            "bottom": null,
            "display": null,
            "flex": null,
            "flex_flow": null,
            "grid_area": null,
            "grid_auto_columns": null,
            "grid_auto_flow": null,
            "grid_auto_rows": null,
            "grid_column": null,
            "grid_gap": null,
            "grid_row": null,
            "grid_template_areas": null,
            "grid_template_columns": null,
            "grid_template_rows": null,
            "height": null,
            "justify_content": null,
            "justify_items": null,
            "left": null,
            "margin": null,
            "max_height": null,
            "max_width": null,
            "min_height": null,
            "min_width": null,
            "object_fit": null,
            "object_position": null,
            "order": null,
            "overflow": null,
            "overflow_x": null,
            "overflow_y": null,
            "padding": null,
            "right": null,
            "top": null,
            "visibility": null,
            "width": "20%"
          }
        },
        "2a1c985f63a543e99e64ef684c5200c1": {
          "model_module": "@jupyter-widgets/controls",
          "model_module_version": "1.5.0",
          "model_name": "HBoxModel",
          "state": {
            "_dom_classes": [],
            "_model_module": "@jupyter-widgets/controls",
            "_model_module_version": "1.5.0",
            "_model_name": "HBoxModel",
            "_view_count": null,
            "_view_module": "@jupyter-widgets/controls",
            "_view_module_version": "1.5.0",
            "_view_name": "HBoxView",
            "box_style": "",
            "children": [
              "IPY_MODEL_f47db1cc48c448818edc8f5af41028e8",
              "IPY_MODEL_8ca2676e65d64ab8a6389da05662d9fe"
            ],
            "layout": "IPY_MODEL_fad1b724d94a420e97cd46a850727059"
          }
        },
        "2aa7c26f941f4617a3c8c9a39591f8d2": {
          "model_module": "@jupyter-widgets/base",
          "model_module_version": "1.2.0",
          "model_name": "LayoutModel",
          "state": {
            "_model_module": "@jupyter-widgets/base",
            "_model_module_version": "1.2.0",
            "_model_name": "LayoutModel",
            "_view_count": null,
            "_view_module": "@jupyter-widgets/base",
            "_view_module_version": "1.2.0",
            "_view_name": "LayoutView",
            "align_content": null,
            "align_items": null,
            "align_self": null,
            "border": null,
            "bottom": null,
            "display": null,
            "flex": null,
            "flex_flow": null,
            "grid_area": null,
            "grid_auto_columns": null,
            "grid_auto_flow": null,
            "grid_auto_rows": null,
            "grid_column": null,
            "grid_gap": null,
            "grid_row": null,
            "grid_template_areas": null,
            "grid_template_columns": null,
            "grid_template_rows": null,
            "height": null,
            "justify_content": null,
            "justify_items": null,
            "left": null,
            "margin": null,
            "max_height": null,
            "max_width": null,
            "min_height": null,
            "min_width": null,
            "object_fit": null,
            "object_position": null,
            "order": null,
            "overflow": null,
            "overflow_x": null,
            "overflow_y": null,
            "padding": null,
            "right": null,
            "top": null,
            "visibility": null,
            "width": "100%"
          }
        },
        "2ab4f9499f914339b35beef7e9cd708c": {
          "model_module": "@jupyter-widgets/output",
          "model_module_version": "1.0.0",
          "model_name": "OutputModel",
          "state": {
            "_dom_classes": [],
            "_model_module": "@jupyter-widgets/output",
            "_model_module_version": "1.0.0",
            "_model_name": "OutputModel",
            "_view_count": null,
            "_view_module": "@jupyter-widgets/output",
            "_view_module_version": "1.0.0",
            "_view_name": "OutputView",
            "layout": "IPY_MODEL_e5dab75b807e40158dec7aaed179727e",
            "msg_id": "",
            "outputs": [
              {
                "data": {
                  "image/png": "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\n",
                  "text/plain": "<Figure size 1000x500 with 1 Axes>"
                },
                "metadata": {},
                "output_type": "display_data"
              }
            ]
          }
        },
        "31809aef14714635b245bef64a99ed77": {
          "model_module": "@jupyter-widgets/base",
          "model_module_version": "1.2.0",
          "model_name": "LayoutModel",
          "state": {
            "_model_module": "@jupyter-widgets/base",
            "_model_module_version": "1.2.0",
            "_model_name": "LayoutModel",
            "_view_count": null,
            "_view_module": "@jupyter-widgets/base",
            "_view_module_version": "1.2.0",
            "_view_name": "LayoutView",
            "align_content": null,
            "align_items": null,
            "align_self": null,
            "border": null,
            "bottom": null,
            "display": null,
            "flex": null,
            "flex_flow": null,
            "grid_area": null,
            "grid_auto_columns": null,
            "grid_auto_flow": null,
            "grid_auto_rows": null,
            "grid_column": null,
            "grid_gap": null,
            "grid_row": null,
            "grid_template_areas": null,
            "grid_template_columns": null,
            "grid_template_rows": null,
            "height": null,
            "justify_content": null,
            "justify_items": null,
            "left": null,
            "margin": null,
            "max_height": null,
            "max_width": null,
            "min_height": null,
            "min_width": null,
            "object_fit": null,
            "object_position": null,
            "order": null,
            "overflow": null,
            "overflow_x": null,
            "overflow_y": null,
            "padding": null,
            "right": null,
            "top": null,
            "visibility": null,
            "width": null
          }
        },
        "35b17320c8c04592ae1f820c13ed8485": {
          "model_module": "@jupyter-widgets/base",
          "model_module_version": "1.2.0",
          "model_name": "LayoutModel",
          "state": {
            "_model_module": "@jupyter-widgets/base",
            "_model_module_version": "1.2.0",
            "_model_name": "LayoutModel",
            "_view_count": null,
            "_view_module": "@jupyter-widgets/base",
            "_view_module_version": "1.2.0",
            "_view_name": "LayoutView",
            "align_content": null,
            "align_items": null,
            "align_self": null,
            "border": null,
            "bottom": null,
            "display": null,
            "flex": null,
            "flex_flow": null,
            "grid_area": null,
            "grid_auto_columns": null,
            "grid_auto_flow": null,
            "grid_auto_rows": null,
            "grid_column": null,
            "grid_gap": null,
            "grid_row": null,
            "grid_template_areas": null,
            "grid_template_columns": null,
            "grid_template_rows": null,
            "height": null,
            "justify_content": null,
            "justify_items": null,
            "left": null,
            "margin": null,
            "max_height": null,
            "max_width": null,
            "min_height": null,
            "min_width": null,
            "object_fit": null,
            "object_position": null,
            "order": null,
            "overflow": null,
            "overflow_x": null,
            "overflow_y": null,
            "padding": null,
            "right": null,
            "top": null,
            "visibility": null,
            "width": null
          }
        },
        "35f28c50698c45358aa03b030d911463": {
          "model_module": "@jupyter-widgets/controls",
          "model_module_version": "1.5.0",
          "model_name": "BoundedIntTextModel",
          "state": {
            "_dom_classes": [],
            "_model_module": "@jupyter-widgets/controls",
            "_model_module_version": "1.5.0",
            "_model_name": "BoundedIntTextModel",
            "_view_count": null,
            "_view_module": "@jupyter-widgets/controls",
            "_view_module_version": "1.5.0",
            "_view_name": "IntTextView",
            "continuous_update": false,
            "description": "Text Index:",
            "description_tooltip": null,
            "disabled": false,
            "layout": "IPY_MODEL_dff997329e3b4776a2bd510337955557",
            "max": 1761,
            "min": 0,
            "step": 1,
            "style": "IPY_MODEL_6eeb60a706cf435286afb5a447c5240d",
            "value": 11
          }
        },
        "387f86a672fe40c0a34d8f581cc1313a": {
          "model_module": "@jupyter-widgets/controls",
          "model_module_version": "1.5.0",
          "model_name": "RadioButtonsModel",
          "state": {
            "_dom_classes": [],
            "_model_module": "@jupyter-widgets/controls",
            "_model_module_version": "1.5.0",
            "_model_name": "RadioButtonsModel",
            "_options_labels": [
              "power",
              "exponential"
            ],
            "_view_count": null,
            "_view_module": "@jupyter-widgets/controls",
            "_view_module_version": "1.5.0",
            "_view_name": "RadioButtonsView",
            "description": "Scaling:",
            "description_tooltip": null,
            "disabled": false,
            "index": 1,
            "layout": "IPY_MODEL_31809aef14714635b245bef64a99ed77",
            "style": "IPY_MODEL_c8221b35fe934b649b73809542653f2a"
          }
        },
        "3d5248d7416e445baca380ea63024ed6": {
          "model_module": "@jupyter-widgets/base",
          "model_module_version": "1.2.0",
          "model_name": "LayoutModel",
          "state": {
            "_model_module": "@jupyter-widgets/base",
            "_model_module_version": "1.2.0",
            "_model_name": "LayoutModel",
            "_view_count": null,
            "_view_module": "@jupyter-widgets/base",
            "_view_module_version": "1.2.0",
            "_view_name": "LayoutView",
            "align_content": null,
            "align_items": null,
            "align_self": null,
            "border": null,
            "bottom": null,
            "display": null,
            "flex": null,
            "flex_flow": null,
            "grid_area": null,
            "grid_auto_columns": null,
            "grid_auto_flow": null,
            "grid_auto_rows": null,
            "grid_column": null,
            "grid_gap": null,
            "grid_row": null,
            "grid_template_areas": null,
            "grid_template_columns": null,
            "grid_template_rows": null,
            "height": null,
            "justify_content": null,
            "justify_items": null,
            "left": null,
            "margin": null,
            "max_height": null,
            "max_width": null,
            "min_height": null,
            "min_width": null,
            "object_fit": null,
            "object_position": null,
            "order": null,
            "overflow": null,
            "overflow_x": null,
            "overflow_y": null,
            "padding": null,
            "right": null,
            "top": null,
            "visibility": null,
            "width": "80%"
          }
        },
        "40794833e4ea4f5ab4982b7d10deba35": {
          "model_module": "@jupyter-widgets/controls",
          "model_module_version": "1.5.0",
          "model_name": "BoundedIntTextModel",
          "state": {
            "_dom_classes": [],
            "_model_module": "@jupyter-widgets/controls",
            "_model_module_version": "1.5.0",
            "_model_name": "BoundedIntTextModel",
            "_view_count": null,
            "_view_module": "@jupyter-widgets/controls",
            "_view_module_version": "1.5.0",
            "_view_name": "IntTextView",
            "continuous_update": false,
            "description": "Text Index:",
            "description_tooltip": null,
            "disabled": false,
            "layout": "IPY_MODEL_e0a65ddc525b43b4987e02af9502ab06",
            "max": 1761,
            "min": 0,
            "step": 1,
            "style": "IPY_MODEL_5c3203fd090f4a578b26494cb6c1f3fd",
            "value": 5
          }
        },
        "40ed8f0eaa1d4fa4a62be21da2f0dbbe": {
          "model_module": "@jupyter-widgets/base",
          "model_module_version": "1.2.0",
          "model_name": "LayoutModel",
          "state": {
            "_model_module": "@jupyter-widgets/base",
            "_model_module_version": "1.2.0",
            "_model_name": "LayoutModel",
            "_view_count": null,
            "_view_module": "@jupyter-widgets/base",
            "_view_module_version": "1.2.0",
            "_view_name": "LayoutView",
            "align_content": null,
            "align_items": null,
            "align_self": null,
            "border": null,
            "bottom": null,
            "display": null,
            "flex": null,
            "flex_flow": null,
            "grid_area": null,
            "grid_auto_columns": null,
            "grid_auto_flow": null,
            "grid_auto_rows": null,
            "grid_column": null,
            "grid_gap": null,
            "grid_row": null,
            "grid_template_areas": null,
            "grid_template_columns": null,
            "grid_template_rows": null,
            "height": null,
            "justify_content": null,
            "justify_items": null,
            "left": null,
            "margin": null,
            "max_height": null,
            "max_width": null,
            "min_height": null,
            "min_width": null,
            "object_fit": null,
            "object_position": null,
            "order": null,
            "overflow": null,
            "overflow_x": null,
            "overflow_y": null,
            "padding": null,
            "right": null,
            "top": null,
            "visibility": null,
            "width": "30%"
          }
        },
        "45081d6c4eff4eeba09caa144920838e": {
          "model_module": "@jupyter-widgets/controls",
          "model_module_version": "1.5.0",
          "model_name": "SliderStyleModel",
          "state": {
            "_model_module": "@jupyter-widgets/controls",
            "_model_module_version": "1.5.0",
            "_model_name": "SliderStyleModel",
            "_view_count": null,
            "_view_module": "@jupyter-widgets/base",
            "_view_module_version": "1.2.0",
            "_view_name": "StyleView",
            "description_width": "initial",
            "handle_color": null
          }
        },
        "47eff9c851014cad8473ec8b71c531d7": {
          "model_module": "@jupyter-widgets/base",
          "model_module_version": "1.2.0",
          "model_name": "LayoutModel",
          "state": {
            "_model_module": "@jupyter-widgets/base",
            "_model_module_version": "1.2.0",
            "_model_name": "LayoutModel",
            "_view_count": null,
            "_view_module": "@jupyter-widgets/base",
            "_view_module_version": "1.2.0",
            "_view_name": "LayoutView",
            "align_content": null,
            "align_items": null,
            "align_self": null,
            "border": null,
            "bottom": null,
            "display": null,
            "flex": null,
            "flex_flow": null,
            "grid_area": null,
            "grid_auto_columns": null,
            "grid_auto_flow": null,
            "grid_auto_rows": null,
            "grid_column": null,
            "grid_gap": null,
            "grid_row": null,
            "grid_template_areas": null,
            "grid_template_columns": null,
            "grid_template_rows": null,
            "height": null,
            "justify_content": null,
            "justify_items": null,
            "left": null,
            "margin": null,
            "max_height": null,
            "max_width": null,
            "min_height": null,
            "min_width": null,
            "object_fit": null,
            "object_position": null,
            "order": null,
            "overflow": null,
            "overflow_x": null,
            "overflow_y": null,
            "padding": null,
            "right": null,
            "top": null,
            "visibility": null,
            "width": "80%"
          }
        },
        "5c3203fd090f4a578b26494cb6c1f3fd": {
          "model_module": "@jupyter-widgets/controls",
          "model_module_version": "1.5.0",
          "model_name": "DescriptionStyleModel",
          "state": {
            "_model_module": "@jupyter-widgets/controls",
            "_model_module_version": "1.5.0",
            "_model_name": "DescriptionStyleModel",
            "_view_count": null,
            "_view_module": "@jupyter-widgets/base",
            "_view_module_version": "1.2.0",
            "_view_name": "StyleView",
            "description_width": "initial"
          }
        },
        "65cfcf8b595341f2be6d06794eca05ed": {
          "model_module": "@jupyter-widgets/base",
          "model_module_version": "1.2.0",
          "model_name": "LayoutModel",
          "state": {
            "_model_module": "@jupyter-widgets/base",
            "_model_module_version": "1.2.0",
            "_model_name": "LayoutModel",
            "_view_count": null,
            "_view_module": "@jupyter-widgets/base",
            "_view_module_version": "1.2.0",
            "_view_name": "LayoutView",
            "align_content": null,
            "align_items": null,
            "align_self": null,
            "border": null,
            "bottom": null,
            "display": null,
            "flex": null,
            "flex_flow": null,
            "grid_area": null,
            "grid_auto_columns": null,
            "grid_auto_flow": null,
            "grid_auto_rows": null,
            "grid_column": null,
            "grid_gap": null,
            "grid_row": null,
            "grid_template_areas": null,
            "grid_template_columns": null,
            "grid_template_rows": null,
            "height": null,
            "justify_content": null,
            "justify_items": null,
            "left": null,
            "margin": null,
            "max_height": null,
            "max_width": null,
            "min_height": null,
            "min_width": null,
            "object_fit": null,
            "object_position": null,
            "order": null,
            "overflow": null,
            "overflow_x": null,
            "overflow_y": null,
            "padding": null,
            "right": null,
            "top": null,
            "visibility": null,
            "width": null
          }
        },
        "67273406504744f1aa5ffc7ca7c3f700": {
          "model_module": "@jupyter-widgets/controls",
          "model_module_version": "1.5.0",
          "model_name": "BoundedIntTextModel",
          "state": {
            "_dom_classes": [],
            "_model_module": "@jupyter-widgets/controls",
            "_model_module_version": "1.5.0",
            "_model_name": "BoundedIntTextModel",
            "_view_count": null,
            "_view_module": "@jupyter-widgets/controls",
            "_view_module_version": "1.5.0",
            "_view_name": "IntTextView",
            "continuous_update": false,
            "description": "Text Index:",
            "description_tooltip": null,
            "disabled": false,
            "layout": "IPY_MODEL_c892c93732e546bd91060f6f3a9a35a7",
            "max": 1761,
            "min": 0,
            "step": 1,
            "style": "IPY_MODEL_d8dff0f4bd524e68a2aa33d3e19bc367",
            "value": 15
          }
        },
        "69555b4a4dc84a6384579347459441cb": {
          "model_module": "@jupyter-widgets/controls",
          "model_module_version": "1.5.0",
          "model_name": "IntSliderModel",
          "state": {
            "_dom_classes": [],
            "_model_module": "@jupyter-widgets/controls",
            "_model_module_version": "1.5.0",
            "_model_name": "IntSliderModel",
            "_view_count": null,
            "_view_module": "@jupyter-widgets/controls",
            "_view_module_version": "1.5.0",
            "_view_name": "IntSliderView",
            "continuous_update": true,
            "description": "Nr of histograms:",
            "description_tooltip": null,
            "disabled": false,
            "layout": "IPY_MODEL_919e0f86bb4b4f33b9f5d0229e439c0b",
            "max": 3,
            "min": 1,
            "orientation": "horizontal",
            "readout": true,
            "readout_format": "d",
            "step": 1,
            "style": "IPY_MODEL_75a9842b6e724d1a884dae4efefecf0f",
            "value": 3
          }
        },
        "69c40768756442718d1a17f1aecf94fe": {
          "model_module": "@jupyter-widgets/controls",
          "model_module_version": "1.5.0",
          "model_name": "BoundedIntTextModel",
          "state": {
            "_dom_classes": [],
            "_model_module": "@jupyter-widgets/controls",
            "_model_module_version": "1.5.0",
            "_model_name": "BoundedIntTextModel",
            "_view_count": null,
            "_view_module": "@jupyter-widgets/controls",
            "_view_module_version": "1.5.0",
            "_view_name": "IntTextView",
            "continuous_update": false,
            "description": "Text Index:",
            "description_tooltip": null,
            "disabled": false,
            "layout": "IPY_MODEL_7a98b510e86a4d3696b97e6af18bd4d5",
            "max": 1761,
            "min": 0,
            "step": 1,
            "style": "IPY_MODEL_ca4817a094d14041b80838f14fd1761d",
            "value": 6
          }
        },
        "6eeb60a706cf435286afb5a447c5240d": {
          "model_module": "@jupyter-widgets/controls",
          "model_module_version": "1.5.0",
          "model_name": "DescriptionStyleModel",
          "state": {
            "_model_module": "@jupyter-widgets/controls",
            "_model_module_version": "1.5.0",
            "_model_name": "DescriptionStyleModel",
            "_view_count": null,
            "_view_module": "@jupyter-widgets/base",
            "_view_module_version": "1.2.0",
            "_view_name": "StyleView",
            "description_width": "initial"
          }
        },
        "70b864151f7f41d799474efd19068096": {
          "model_module": "@jupyter-widgets/base",
          "model_module_version": "1.2.0",
          "model_name": "LayoutModel",
          "state": {
            "_model_module": "@jupyter-widgets/base",
            "_model_module_version": "1.2.0",
            "_model_name": "LayoutModel",
            "_view_count": null,
            "_view_module": "@jupyter-widgets/base",
            "_view_module_version": "1.2.0",
            "_view_name": "LayoutView",
            "align_content": null,
            "align_items": null,
            "align_self": null,
            "border": null,
            "bottom": null,
            "display": null,
            "flex": null,
            "flex_flow": null,
            "grid_area": null,
            "grid_auto_columns": null,
            "grid_auto_flow": null,
            "grid_auto_rows": null,
            "grid_column": null,
            "grid_gap": null,
            "grid_row": null,
            "grid_template_areas": null,
            "grid_template_columns": null,
            "grid_template_rows": null,
            "height": null,
            "justify_content": null,
            "justify_items": null,
            "left": null,
            "margin": null,
            "max_height": null,
            "max_width": null,
            "min_height": null,
            "min_width": null,
            "object_fit": null,
            "object_position": null,
            "order": null,
            "overflow": null,
            "overflow_x": null,
            "overflow_y": null,
            "padding": null,
            "right": null,
            "top": null,
            "visibility": null,
            "width": null
          }
        },
        "73c1c283848645bcb8ba49b24103963a": {
          "model_module": "@jupyter-widgets/controls",
          "model_module_version": "1.5.0",
          "model_name": "BoundedIntTextModel",
          "state": {
            "_dom_classes": [],
            "_model_module": "@jupyter-widgets/controls",
            "_model_module_version": "1.5.0",
            "_model_name": "BoundedIntTextModel",
            "_view_count": null,
            "_view_module": "@jupyter-widgets/controls",
            "_view_module_version": "1.5.0",
            "_view_name": "IntTextView",
            "continuous_update": false,
            "description": "Text Index:",
            "description_tooltip": null,
            "disabled": false,
            "layout": "IPY_MODEL_47eff9c851014cad8473ec8b71c531d7",
            "max": 1761,
            "min": 0,
            "step": 1,
            "style": "IPY_MODEL_ac311e2aff6c4c50a53ae381af8e9dcd",
            "value": 9
          }
        },
        "752ca88402934e7a8a52af98faac0b19": {
          "model_module": "@jupyter-widgets/base",
          "model_module_version": "1.2.0",
          "model_name": "LayoutModel",
          "state": {
            "_model_module": "@jupyter-widgets/base",
            "_model_module_version": "1.2.0",
            "_model_name": "LayoutModel",
            "_view_count": null,
            "_view_module": "@jupyter-widgets/base",
            "_view_module_version": "1.2.0",
            "_view_name": "LayoutView",
            "align_content": null,
            "align_items": null,
            "align_self": null,
            "border": null,
            "bottom": null,
            "display": null,
            "flex": null,
            "flex_flow": null,
            "grid_area": null,
            "grid_auto_columns": null,
            "grid_auto_flow": null,
            "grid_auto_rows": null,
            "grid_column": null,
            "grid_gap": null,
            "grid_row": null,
            "grid_template_areas": null,
            "grid_template_columns": null,
            "grid_template_rows": null,
            "height": null,
            "justify_content": "center",
            "justify_items": null,
            "left": null,
            "margin": null,
            "max_height": null,
            "max_width": null,
            "min_height": null,
            "min_width": null,
            "object_fit": null,
            "object_position": null,
            "order": null,
            "overflow": null,
            "overflow_x": null,
            "overflow_y": null,
            "padding": null,
            "right": null,
            "top": null,
            "visibility": null,
            "width": null
          }
        },
        "7558b24e1c93425a90cf8689b93ca621": {
          "model_module": "@jupyter-widgets/controls",
          "model_module_version": "1.5.0",
          "model_name": "DescriptionStyleModel",
          "state": {
            "_model_module": "@jupyter-widgets/controls",
            "_model_module_version": "1.5.0",
            "_model_name": "DescriptionStyleModel",
            "_view_count": null,
            "_view_module": "@jupyter-widgets/base",
            "_view_module_version": "1.2.0",
            "_view_name": "StyleView",
            "description_width": "initial"
          }
        },
        "75a9842b6e724d1a884dae4efefecf0f": {
          "model_module": "@jupyter-widgets/controls",
          "model_module_version": "1.5.0",
          "model_name": "SliderStyleModel",
          "state": {
            "_model_module": "@jupyter-widgets/controls",
            "_model_module_version": "1.5.0",
            "_model_name": "SliderStyleModel",
            "_view_count": null,
            "_view_module": "@jupyter-widgets/base",
            "_view_module_version": "1.2.0",
            "_view_name": "StyleView",
            "description_width": "",
            "handle_color": null
          }
        },
        "77bd70d9cee547ada1127eaa5927c96d": {
          "model_module": "@jupyter-widgets/controls",
          "model_module_version": "1.5.0",
          "model_name": "DescriptionStyleModel",
          "state": {
            "_model_module": "@jupyter-widgets/controls",
            "_model_module_version": "1.5.0",
            "_model_name": "DescriptionStyleModel",
            "_view_count": null,
            "_view_module": "@jupyter-widgets/base",
            "_view_module_version": "1.2.0",
            "_view_name": "StyleView",
            "description_width": "initial"
          }
        },
        "77caae1e3e234ffd84d4b5cae2342655": {
          "model_module": "@jupyter-widgets/controls",
          "model_module_version": "1.5.0",
          "model_name": "HBoxModel",
          "state": {
            "_dom_classes": [],
            "_model_module": "@jupyter-widgets/controls",
            "_model_module_version": "1.5.0",
            "_model_name": "HBoxModel",
            "_view_count": null,
            "_view_module": "@jupyter-widgets/controls",
            "_view_module_version": "1.5.0",
            "_view_name": "HBoxView",
            "box_style": "",
            "children": [
              "IPY_MODEL_8ff3867c143b40429e2eebf2bf83fa64",
              "IPY_MODEL_387f86a672fe40c0a34d8f581cc1313a",
              "IPY_MODEL_69555b4a4dc84a6384579347459441cb"
            ],
            "layout": "IPY_MODEL_70b864151f7f41d799474efd19068096"
          }
        },
        "7a98b510e86a4d3696b97e6af18bd4d5": {
          "model_module": "@jupyter-widgets/base",
          "model_module_version": "1.2.0",
          "model_name": "LayoutModel",
          "state": {
            "_model_module": "@jupyter-widgets/base",
            "_model_module_version": "1.2.0",
            "_model_name": "LayoutModel",
            "_view_count": null,
            "_view_module": "@jupyter-widgets/base",
            "_view_module_version": "1.2.0",
            "_view_name": "LayoutView",
            "align_content": null,
            "align_items": null,
            "align_self": null,
            "border": null,
            "bottom": null,
            "display": null,
            "flex": null,
            "flex_flow": null,
            "grid_area": null,
            "grid_auto_columns": null,
            "grid_auto_flow": null,
            "grid_auto_rows": null,
            "grid_column": null,
            "grid_gap": null,
            "grid_row": null,
            "grid_template_areas": null,
            "grid_template_columns": null,
            "grid_template_rows": null,
            "height": null,
            "justify_content": null,
            "justify_items": null,
            "left": null,
            "margin": null,
            "max_height": null,
            "max_width": null,
            "min_height": null,
            "min_width": null,
            "object_fit": null,
            "object_position": null,
            "order": null,
            "overflow": null,
            "overflow_x": null,
            "overflow_y": null,
            "padding": null,
            "right": null,
            "top": null,
            "visibility": null,
            "width": "80%"
          }
        },
        "831d16dc2ee842afada2b480e706e901": {
          "model_module": "@jupyter-widgets/controls",
          "model_module_version": "1.5.0",
          "model_name": "DescriptionStyleModel",
          "state": {
            "_model_module": "@jupyter-widgets/controls",
            "_model_module_version": "1.5.0",
            "_model_name": "DescriptionStyleModel",
            "_view_count": null,
            "_view_module": "@jupyter-widgets/base",
            "_view_module_version": "1.2.0",
            "_view_name": "StyleView",
            "description_width": ""
          }
        },
        "84237ec6a9754ac589c7b7c6ed056280": {
          "model_module": "@jupyter-widgets/base",
          "model_module_version": "1.2.0",
          "model_name": "LayoutModel",
          "state": {
            "_model_module": "@jupyter-widgets/base",
            "_model_module_version": "1.2.0",
            "_model_name": "LayoutModel",
            "_view_count": null,
            "_view_module": "@jupyter-widgets/base",
            "_view_module_version": "1.2.0",
            "_view_name": "LayoutView",
            "align_content": null,
            "align_items": null,
            "align_self": null,
            "border": null,
            "bottom": null,
            "display": null,
            "flex": null,
            "flex_flow": null,
            "grid_area": null,
            "grid_auto_columns": null,
            "grid_auto_flow": null,
            "grid_auto_rows": null,
            "grid_column": null,
            "grid_gap": null,
            "grid_row": null,
            "grid_template_areas": null,
            "grid_template_columns": null,
            "grid_template_rows": null,
            "height": null,
            "justify_content": null,
            "justify_items": null,
            "left": null,
            "margin": null,
            "max_height": null,
            "max_width": null,
            "min_height": null,
            "min_width": null,
            "object_fit": null,
            "object_position": null,
            "order": null,
            "overflow": null,
            "overflow_x": null,
            "overflow_y": null,
            "padding": null,
            "right": null,
            "top": null,
            "visibility": null,
            "width": "90%"
          }
        },
        "84e6135030ca4e5db79e2852268be8c7": {
          "model_module": "@jupyter-widgets/controls",
          "model_module_version": "1.5.0",
          "model_name": "BoundedIntTextModel",
          "state": {
            "_dom_classes": [],
            "_model_module": "@jupyter-widgets/controls",
            "_model_module_version": "1.5.0",
            "_model_name": "BoundedIntTextModel",
            "_view_count": null,
            "_view_module": "@jupyter-widgets/controls",
            "_view_module_version": "1.5.0",
            "_view_name": "IntTextView",
            "continuous_update": false,
            "description": "Text Index:",
            "description_tooltip": null,
            "disabled": false,
            "layout": "IPY_MODEL_3d5248d7416e445baca380ea63024ed6",
            "max": 1761,
            "min": 0,
            "step": 1,
            "style": "IPY_MODEL_031c27fe39c44c5a8201a53277bde04a",
            "value": 7
          }
        },
        "8b82606cafd64e0a8a8beca9f5df853e": {
          "model_module": "@jupyter-widgets/controls",
          "model_module_version": "1.5.0",
          "model_name": "HBoxModel",
          "state": {
            "_dom_classes": [],
            "_model_module": "@jupyter-widgets/controls",
            "_model_module_version": "1.5.0",
            "_model_name": "HBoxModel",
            "_view_count": null,
            "_view_module": "@jupyter-widgets/controls",
            "_view_module_version": "1.5.0",
            "_view_name": "HBoxView",
            "box_style": "",
            "children": [
              "IPY_MODEL_feba2ab4f7444568abfedd43f2f7d80b",
              "IPY_MODEL_e4cbc9575dc149978713f228d14df264",
              "IPY_MODEL_a5b71bf89ebb4d45aabdaf420ca1b1a5"
            ],
            "layout": "IPY_MODEL_0c862ff25fe0468faea18093a361113b"
          }
        },
        "8ca2676e65d64ab8a6389da05662d9fe": {
          "model_module": "@jupyter-widgets/controls",
          "model_module_version": "1.5.0",
          "model_name": "RadioButtonsModel",
          "state": {
            "_dom_classes": [],
            "_model_module": "@jupyter-widgets/controls",
            "_model_module_version": "1.5.0",
            "_model_name": "RadioButtonsModel",
            "_options_labels": [
              "power",
              "exponential"
            ],
            "_view_count": null,
            "_view_module": "@jupyter-widgets/controls",
            "_view_module_version": "1.5.0",
            "_view_name": "RadioButtonsView",
            "description": "Scaling:",
            "description_tooltip": null,
            "disabled": false,
            "index": 1,
            "layout": "IPY_MODEL_2aa7c26f941f4617a3c8c9a39591f8d2",
            "style": "IPY_MODEL_7558b24e1c93425a90cf8689b93ca621"
          }
        },
        "8ff3867c143b40429e2eebf2bf83fa64": {
          "model_module": "@jupyter-widgets/controls",
          "model_module_version": "1.5.0",
          "model_name": "RadioButtonsModel",
          "state": {
            "_dom_classes": [],
            "_model_module": "@jupyter-widgets/controls",
            "_model_module_version": "1.5.0",
            "_model_name": "RadioButtonsModel",
            "_options_labels": [
              "euclidean",
              "cosine",
              "cityblock"
            ],
            "_view_count": null,
            "_view_module": "@jupyter-widgets/controls",
            "_view_module_version": "1.5.0",
            "_view_name": "RadioButtonsView",
            "description": "Metric:",
            "description_tooltip": null,
            "disabled": false,
            "index": 1,
            "layout": "IPY_MODEL_65cfcf8b595341f2be6d06794eca05ed",
            "style": "IPY_MODEL_831d16dc2ee842afada2b480e706e901"
          }
        },
        "919e0f86bb4b4f33b9f5d0229e439c0b": {
          "model_module": "@jupyter-widgets/base",
          "model_module_version": "1.2.0",
          "model_name": "LayoutModel",
          "state": {
            "_model_module": "@jupyter-widgets/base",
            "_model_module_version": "1.2.0",
            "_model_name": "LayoutModel",
            "_view_count": null,
            "_view_module": "@jupyter-widgets/base",
            "_view_module_version": "1.2.0",
            "_view_name": "LayoutView",
            "align_content": null,
            "align_items": null,
            "align_self": null,
            "border": null,
            "bottom": null,
            "display": null,
            "flex": null,
            "flex_flow": null,
            "grid_area": null,
            "grid_auto_columns": null,
            "grid_auto_flow": null,
            "grid_auto_rows": null,
            "grid_column": null,
            "grid_gap": null,
            "grid_row": null,
            "grid_template_areas": null,
            "grid_template_columns": null,
            "grid_template_rows": null,
            "height": null,
            "justify_content": null,
            "justify_items": null,
            "left": null,
            "margin": null,
            "max_height": null,
            "max_width": null,
            "min_height": null,
            "min_width": null,
            "object_fit": null,
            "object_position": null,
            "order": null,
            "overflow": null,
            "overflow_x": null,
            "overflow_y": null,
            "padding": null,
            "right": null,
            "top": null,
            "visibility": null,
            "width": null
          }
        },
        "92302e05289049c69ca55950dd77a9b3": {
          "model_module": "@jupyter-widgets/controls",
          "model_module_version": "1.5.0",
          "model_name": "DescriptionStyleModel",
          "state": {
            "_model_module": "@jupyter-widgets/controls",
            "_model_module_version": "1.5.0",
            "_model_name": "DescriptionStyleModel",
            "_view_count": null,
            "_view_module": "@jupyter-widgets/base",
            "_view_module_version": "1.2.0",
            "_view_name": "StyleView",
            "description_width": "initial"
          }
        },
        "95bad215b31144549985bf64e673c7a6": {
          "model_module": "@jupyter-widgets/base",
          "model_module_version": "1.2.0",
          "model_name": "LayoutModel",
          "state": {
            "_model_module": "@jupyter-widgets/base",
            "_model_module_version": "1.2.0",
            "_model_name": "LayoutModel",
            "_view_count": null,
            "_view_module": "@jupyter-widgets/base",
            "_view_module_version": "1.2.0",
            "_view_name": "LayoutView",
            "align_content": null,
            "align_items": null,
            "align_self": null,
            "border": null,
            "bottom": null,
            "display": null,
            "flex": null,
            "flex_flow": null,
            "grid_area": null,
            "grid_auto_columns": null,
            "grid_auto_flow": null,
            "grid_auto_rows": null,
            "grid_column": null,
            "grid_gap": null,
            "grid_row": null,
            "grid_template_areas": null,
            "grid_template_columns": null,
            "grid_template_rows": null,
            "height": null,
            "justify_content": null,
            "justify_items": null,
            "left": null,
            "margin": null,
            "max_height": null,
            "max_width": null,
            "min_height": null,
            "min_width": null,
            "object_fit": null,
            "object_position": null,
            "order": null,
            "overflow": null,
            "overflow_x": null,
            "overflow_y": null,
            "padding": null,
            "right": null,
            "top": null,
            "visibility": null,
            "width": null
          }
        },
        "a333cee8d7604323888b1582c421d42c": {
          "model_module": "@jupyter-widgets/base",
          "model_module_version": "1.2.0",
          "model_name": "LayoutModel",
          "state": {
            "_model_module": "@jupyter-widgets/base",
            "_model_module_version": "1.2.0",
            "_model_name": "LayoutModel",
            "_view_count": null,
            "_view_module": "@jupyter-widgets/base",
            "_view_module_version": "1.2.0",
            "_view_name": "LayoutView",
            "align_content": null,
            "align_items": null,
            "align_self": null,
            "border": null,
            "bottom": null,
            "display": null,
            "flex": null,
            "flex_flow": null,
            "grid_area": null,
            "grid_auto_columns": null,
            "grid_auto_flow": null,
            "grid_auto_rows": null,
            "grid_column": null,
            "grid_gap": null,
            "grid_row": null,
            "grid_template_areas": null,
            "grid_template_columns": null,
            "grid_template_rows": null,
            "height": null,
            "justify_content": null,
            "justify_items": null,
            "left": null,
            "margin": null,
            "max_height": null,
            "max_width": null,
            "min_height": null,
            "min_width": null,
            "object_fit": null,
            "object_position": null,
            "order": null,
            "overflow": null,
            "overflow_x": null,
            "overflow_y": null,
            "padding": null,
            "right": null,
            "top": null,
            "visibility": null,
            "width": "100%"
          }
        },
        "a583543102bc4e4c8a7cb3ee651a1b50": {
          "model_module": "@jupyter-widgets/controls",
          "model_module_version": "1.5.0",
          "model_name": "VBoxModel",
          "state": {
            "_dom_classes": [],
            "_model_module": "@jupyter-widgets/controls",
            "_model_module_version": "1.5.0",
            "_model_name": "VBoxModel",
            "_view_count": null,
            "_view_module": "@jupyter-widgets/controls",
            "_view_module_version": "1.5.0",
            "_view_name": "VBoxView",
            "box_style": "",
            "children": [
              "IPY_MODEL_77caae1e3e234ffd84d4b5cae2342655",
              "IPY_MODEL_00ba53b5f3b0407882d01392342a6818",
              "IPY_MODEL_2ab4f9499f914339b35beef7e9cd708c"
            ],
            "layout": "IPY_MODEL_95bad215b31144549985bf64e673c7a6"
          }
        },
        "a5b71bf89ebb4d45aabdaf420ca1b1a5": {
          "model_module": "@jupyter-widgets/controls",
          "model_module_version": "1.5.0",
          "model_name": "VBoxModel",
          "state": {
            "_dom_classes": [],
            "_model_module": "@jupyter-widgets/controls",
            "_model_module_version": "1.5.0",
            "_model_name": "VBoxModel",
            "_view_count": null,
            "_view_module": "@jupyter-widgets/controls",
            "_view_module_version": "1.5.0",
            "_view_name": "VBoxView",
            "box_style": "",
            "children": [
              "IPY_MODEL_e69f53422dd14834b80bf2bcf055e370",
              "IPY_MODEL_2a1c985f63a543e99e64ef684c5200c1"
            ],
            "layout": "IPY_MODEL_40ed8f0eaa1d4fa4a62be21da2f0dbbe"
          }
        },
        "ac311e2aff6c4c50a53ae381af8e9dcd": {
          "model_module": "@jupyter-widgets/controls",
          "model_module_version": "1.5.0",
          "model_name": "DescriptionStyleModel",
          "state": {
            "_model_module": "@jupyter-widgets/controls",
            "_model_module_version": "1.5.0",
            "_model_name": "DescriptionStyleModel",
            "_view_count": null,
            "_view_module": "@jupyter-widgets/base",
            "_view_module_version": "1.2.0",
            "_view_name": "StyleView",
            "description_width": "initial"
          }
        },
        "b7090156597d467898dff29cf3b35344": {
          "model_module": "@jupyter-widgets/controls",
          "model_module_version": "1.5.0",
          "model_name": "SliderStyleModel",
          "state": {
            "_model_module": "@jupyter-widgets/controls",
            "_model_module_version": "1.5.0",
            "_model_name": "SliderStyleModel",
            "_view_count": null,
            "_view_module": "@jupyter-widgets/base",
            "_view_module_version": "1.2.0",
            "_view_name": "StyleView",
            "description_width": "",
            "handle_color": null
          }
        },
        "b8097139650e4bfca008e020be999726": {
          "model_module": "@jupyter-widgets/controls",
          "model_module_version": "1.5.0",
          "model_name": "FloatSliderModel",
          "state": {
            "_dom_classes": [],
            "_model_module": "@jupyter-widgets/controls",
            "_model_module_version": "1.5.0",
            "_model_name": "FloatSliderModel",
            "_view_count": null,
            "_view_module": "@jupyter-widgets/controls",
            "_view_module_version": "1.5.0",
            "_view_name": "FloatSliderView",
            "continuous_update": true,
            "description": "Alpha:",
            "description_tooltip": null,
            "disabled": false,
            "layout": "IPY_MODEL_a333cee8d7604323888b1582c421d42c",
            "max": 300,
            "min": 0,
            "orientation": "horizontal",
            "readout": true,
            "readout_format": ".2f",
            "step": 0.1,
            "style": "IPY_MODEL_b7090156597d467898dff29cf3b35344",
            "value": 60.9
          }
        },
        "c3cab2bcf11a4bf383cd46af787819b7": {
          "model_module": "@jupyter-widgets/base",
          "model_module_version": "1.2.0",
          "model_name": "LayoutModel",
          "state": {
            "_model_module": "@jupyter-widgets/base",
            "_model_module_version": "1.2.0",
            "_model_name": "LayoutModel",
            "_view_count": null,
            "_view_module": "@jupyter-widgets/base",
            "_view_module_version": "1.2.0",
            "_view_name": "LayoutView",
            "align_content": null,
            "align_items": null,
            "align_self": null,
            "border": null,
            "bottom": null,
            "display": null,
            "flex": null,
            "flex_flow": null,
            "grid_area": null,
            "grid_auto_columns": null,
            "grid_auto_flow": null,
            "grid_auto_rows": null,
            "grid_column": null,
            "grid_gap": null,
            "grid_row": null,
            "grid_template_areas": null,
            "grid_template_columns": null,
            "grid_template_rows": null,
            "height": null,
            "justify_content": null,
            "justify_items": null,
            "left": null,
            "margin": null,
            "max_height": null,
            "max_width": null,
            "min_height": null,
            "min_width": null,
            "object_fit": null,
            "object_position": null,
            "order": null,
            "overflow": null,
            "overflow_x": null,
            "overflow_y": null,
            "padding": null,
            "right": null,
            "top": null,
            "visibility": null,
            "width": "20%"
          }
        },
        "c8221b35fe934b649b73809542653f2a": {
          "model_module": "@jupyter-widgets/controls",
          "model_module_version": "1.5.0",
          "model_name": "DescriptionStyleModel",
          "state": {
            "_model_module": "@jupyter-widgets/controls",
            "_model_module_version": "1.5.0",
            "_model_name": "DescriptionStyleModel",
            "_view_count": null,
            "_view_module": "@jupyter-widgets/base",
            "_view_module_version": "1.2.0",
            "_view_name": "StyleView",
            "description_width": ""
          }
        },
        "c892c93732e546bd91060f6f3a9a35a7": {
          "model_module": "@jupyter-widgets/base",
          "model_module_version": "1.2.0",
          "model_name": "LayoutModel",
          "state": {
            "_model_module": "@jupyter-widgets/base",
            "_model_module_version": "1.2.0",
            "_model_name": "LayoutModel",
            "_view_count": null,
            "_view_module": "@jupyter-widgets/base",
            "_view_module_version": "1.2.0",
            "_view_name": "LayoutView",
            "align_content": null,
            "align_items": null,
            "align_self": null,
            "border": null,
            "bottom": null,
            "display": null,
            "flex": null,
            "flex_flow": null,
            "grid_area": null,
            "grid_auto_columns": null,
            "grid_auto_flow": null,
            "grid_auto_rows": null,
            "grid_column": null,
            "grid_gap": null,
            "grid_row": null,
            "grid_template_areas": null,
            "grid_template_columns": null,
            "grid_template_rows": null,
            "height": null,
            "justify_content": null,
            "justify_items": null,
            "left": null,
            "margin": null,
            "max_height": null,
            "max_width": null,
            "min_height": null,
            "min_width": null,
            "object_fit": null,
            "object_position": null,
            "order": null,
            "overflow": null,
            "overflow_x": null,
            "overflow_y": null,
            "padding": null,
            "right": null,
            "top": null,
            "visibility": null,
            "width": "80%"
          }
        },
        "ca4817a094d14041b80838f14fd1761d": {
          "model_module": "@jupyter-widgets/controls",
          "model_module_version": "1.5.0",
          "model_name": "DescriptionStyleModel",
          "state": {
            "_model_module": "@jupyter-widgets/controls",
            "_model_module_version": "1.5.0",
            "_model_name": "DescriptionStyleModel",
            "_view_count": null,
            "_view_module": "@jupyter-widgets/base",
            "_view_module_version": "1.2.0",
            "_view_name": "StyleView",
            "description_width": "initial"
          }
        },
        "ce81b44de58b4d9194a8e27958da5a64": {
          "model_module": "@jupyter-widgets/controls",
          "model_module_version": "1.5.0",
          "model_name": "BoundedIntTextModel",
          "state": {
            "_dom_classes": [],
            "_model_module": "@jupyter-widgets/controls",
            "_model_module_version": "1.5.0",
            "_model_name": "BoundedIntTextModel",
            "_view_count": null,
            "_view_module": "@jupyter-widgets/controls",
            "_view_module_version": "1.5.0",
            "_view_name": "IntTextView",
            "continuous_update": false,
            "description": "Text Index:",
            "description_tooltip": null,
            "disabled": false,
            "layout": "IPY_MODEL_f8037b2a001f40f0b2074ffc435dd855",
            "max": 1761,
            "min": 0,
            "step": 1,
            "style": "IPY_MODEL_92302e05289049c69ca55950dd77a9b3",
            "value": 8
          }
        },
        "d5fae35bf1404a0ba9cb971c00d6ce50": {
          "model_module": "@jupyter-widgets/controls",
          "model_module_version": "1.5.0",
          "model_name": "DescriptionStyleModel",
          "state": {
            "_model_module": "@jupyter-widgets/controls",
            "_model_module_version": "1.5.0",
            "_model_name": "DescriptionStyleModel",
            "_view_count": null,
            "_view_module": "@jupyter-widgets/base",
            "_view_module_version": "1.2.0",
            "_view_name": "StyleView",
            "description_width": "initial"
          }
        },
        "d8dff0f4bd524e68a2aa33d3e19bc367": {
          "model_module": "@jupyter-widgets/controls",
          "model_module_version": "1.5.0",
          "model_name": "DescriptionStyleModel",
          "state": {
            "_model_module": "@jupyter-widgets/controls",
            "_model_module_version": "1.5.0",
            "_model_name": "DescriptionStyleModel",
            "_view_count": null,
            "_view_module": "@jupyter-widgets/base",
            "_view_module_version": "1.2.0",
            "_view_name": "StyleView",
            "description_width": "initial"
          }
        },
        "dff997329e3b4776a2bd510337955557": {
          "model_module": "@jupyter-widgets/base",
          "model_module_version": "1.2.0",
          "model_name": "LayoutModel",
          "state": {
            "_model_module": "@jupyter-widgets/base",
            "_model_module_version": "1.2.0",
            "_model_name": "LayoutModel",
            "_view_count": null,
            "_view_module": "@jupyter-widgets/base",
            "_view_module_version": "1.2.0",
            "_view_name": "LayoutView",
            "align_content": null,
            "align_items": null,
            "align_self": null,
            "border": null,
            "bottom": null,
            "display": null,
            "flex": null,
            "flex_flow": null,
            "grid_area": null,
            "grid_auto_columns": null,
            "grid_auto_flow": null,
            "grid_auto_rows": null,
            "grid_column": null,
            "grid_gap": null,
            "grid_row": null,
            "grid_template_areas": null,
            "grid_template_columns": null,
            "grid_template_rows": null,
            "height": null,
            "justify_content": null,
            "justify_items": null,
            "left": null,
            "margin": null,
            "max_height": null,
            "max_width": null,
            "min_height": null,
            "min_width": null,
            "object_fit": null,
            "object_position": null,
            "order": null,
            "overflow": null,
            "overflow_x": null,
            "overflow_y": null,
            "padding": null,
            "right": null,
            "top": null,
            "visibility": null,
            "width": "80%"
          }
        },
        "e0a65ddc525b43b4987e02af9502ab06": {
          "model_module": "@jupyter-widgets/base",
          "model_module_version": "1.2.0",
          "model_name": "LayoutModel",
          "state": {
            "_model_module": "@jupyter-widgets/base",
            "_model_module_version": "1.2.0",
            "_model_name": "LayoutModel",
            "_view_count": null,
            "_view_module": "@jupyter-widgets/base",
            "_view_module_version": "1.2.0",
            "_view_name": "LayoutView",
            "align_content": null,
            "align_items": null,
            "align_self": null,
            "border": null,
            "bottom": null,
            "display": null,
            "flex": null,
            "flex_flow": null,
            "grid_area": null,
            "grid_auto_columns": null,
            "grid_auto_flow": null,
            "grid_auto_rows": null,
            "grid_column": null,
            "grid_gap": null,
            "grid_row": null,
            "grid_template_areas": null,
            "grid_template_columns": null,
            "grid_template_rows": null,
            "height": null,
            "justify_content": null,
            "justify_items": null,
            "left": null,
            "margin": null,
            "max_height": null,
            "max_width": null,
            "min_height": null,
            "min_width": null,
            "object_fit": null,
            "object_position": null,
            "order": null,
            "overflow": null,
            "overflow_x": null,
            "overflow_y": null,
            "padding": null,
            "right": null,
            "top": null,
            "visibility": null,
            "width": "80%"
          }
        },
        "e4cbc9575dc149978713f228d14df264": {
          "model_module": "@jupyter-widgets/controls",
          "model_module_version": "1.5.0",
          "model_name": "VBoxModel",
          "state": {
            "_dom_classes": [],
            "_model_module": "@jupyter-widgets/controls",
            "_model_module_version": "1.5.0",
            "_model_name": "VBoxModel",
            "_view_count": null,
            "_view_module": "@jupyter-widgets/controls",
            "_view_module_version": "1.5.0",
            "_view_name": "VBoxView",
            "box_style": "",
            "children": [
              "IPY_MODEL_ce81b44de58b4d9194a8e27958da5a64",
              "IPY_MODEL_73c1c283848645bcb8ba49b24103963a",
              "IPY_MODEL_f91380806e1b45ba833d3e01f5a35e27",
              "IPY_MODEL_35f28c50698c45358aa03b030d911463"
            ],
            "layout": "IPY_MODEL_c3cab2bcf11a4bf383cd46af787819b7"
          }
        },
        "e5dab75b807e40158dec7aaed179727e": {
          "model_module": "@jupyter-widgets/base",
          "model_module_version": "1.2.0",
          "model_name": "LayoutModel",
          "state": {
            "_model_module": "@jupyter-widgets/base",
            "_model_module_version": "1.2.0",
            "_model_name": "LayoutModel",
            "_view_count": null,
            "_view_module": "@jupyter-widgets/base",
            "_view_module_version": "1.2.0",
            "_view_name": "LayoutView",
            "align_content": null,
            "align_items": null,
            "align_self": null,
            "border": null,
            "bottom": null,
            "display": null,
            "flex": null,
            "flex_flow": null,
            "grid_area": null,
            "grid_auto_columns": null,
            "grid_auto_flow": null,
            "grid_auto_rows": null,
            "grid_column": null,
            "grid_gap": null,
            "grid_row": null,
            "grid_template_areas": null,
            "grid_template_columns": null,
            "grid_template_rows": null,
            "height": null,
            "justify_content": null,
            "justify_items": null,
            "left": null,
            "margin": null,
            "max_height": null,
            "max_width": null,
            "min_height": null,
            "min_width": null,
            "object_fit": null,
            "object_position": null,
            "order": null,
            "overflow": null,
            "overflow_x": null,
            "overflow_y": null,
            "padding": null,
            "right": null,
            "top": null,
            "visibility": null,
            "width": null
          }
        },
        "e69f53422dd14834b80bf2bcf055e370": {
          "model_module": "@jupyter-widgets/controls",
          "model_module_version": "1.5.0",
          "model_name": "FloatSliderModel",
          "state": {
            "_dom_classes": [],
            "_model_module": "@jupyter-widgets/controls",
            "_model_module_version": "1.5.0",
            "_model_name": "FloatSliderModel",
            "_view_count": null,
            "_view_module": "@jupyter-widgets/controls",
            "_view_module_version": "1.5.0",
            "_view_name": "FloatSliderView",
            "continuous_update": true,
            "description": "Alpha:",
            "description_tooltip": null,
            "disabled": false,
            "layout": "IPY_MODEL_84237ec6a9754ac589c7b7c6ed056280",
            "max": 50,
            "min": 0,
            "orientation": "horizontal",
            "readout": true,
            "readout_format": ".2f",
            "step": 0.1,
            "style": "IPY_MODEL_45081d6c4eff4eeba09caa144920838e",
            "value": 11.1
          }
        },
        "e80677ee9b504e0b8a9336a0fcfabf7b": {
          "model_module": "@jupyter-widgets/base",
          "model_module_version": "1.2.0",
          "model_name": "LayoutModel",
          "state": {
            "_model_module": "@jupyter-widgets/base",
            "_model_module_version": "1.2.0",
            "_model_name": "LayoutModel",
            "_view_count": null,
            "_view_module": "@jupyter-widgets/base",
            "_view_module_version": "1.2.0",
            "_view_name": "LayoutView",
            "align_content": null,
            "align_items": null,
            "align_self": null,
            "border": null,
            "bottom": null,
            "display": null,
            "flex": null,
            "flex_flow": null,
            "grid_area": null,
            "grid_auto_columns": null,
            "grid_auto_flow": null,
            "grid_auto_rows": null,
            "grid_column": null,
            "grid_gap": null,
            "grid_row": null,
            "grid_template_areas": null,
            "grid_template_columns": null,
            "grid_template_rows": null,
            "height": null,
            "justify_content": null,
            "justify_items": null,
            "left": null,
            "margin": null,
            "max_height": null,
            "max_width": null,
            "min_height": null,
            "min_width": null,
            "object_fit": null,
            "object_position": null,
            "order": null,
            "overflow": null,
            "overflow_x": null,
            "overflow_y": null,
            "padding": null,
            "right": null,
            "top": null,
            "visibility": null,
            "width": "100%"
          }
        },
        "f319f6d974c44542bda9ff74ff35f33f": {
          "model_module": "@jupyter-widgets/output",
          "model_module_version": "1.0.0",
          "model_name": "OutputModel",
          "state": {
            "_dom_classes": [],
            "_model_module": "@jupyter-widgets/output",
            "_model_module_version": "1.0.0",
            "_model_name": "OutputModel",
            "_view_count": null,
            "_view_module": "@jupyter-widgets/output",
            "_view_module_version": "1.0.0",
            "_view_name": "OutputView",
            "layout": "IPY_MODEL_35b17320c8c04592ae1f820c13ed8485",
            "msg_id": "",
            "outputs": [
              {
                "data": {
                  "image/png": "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\n",
                  "text/plain": "<Figure size 1000x1000 with 8 Axes>"
                },
                "metadata": {},
                "output_type": "display_data"
              }
            ]
          }
        },
        "f47db1cc48c448818edc8f5af41028e8": {
          "model_module": "@jupyter-widgets/controls",
          "model_module_version": "1.5.0",
          "model_name": "RadioButtonsModel",
          "state": {
            "_dom_classes": [],
            "_model_module": "@jupyter-widgets/controls",
            "_model_module_version": "1.5.0",
            "_model_name": "RadioButtonsModel",
            "_options_labels": [
              "euclidean",
              "cosine",
              "cityblock"
            ],
            "_view_count": null,
            "_view_module": "@jupyter-widgets/controls",
            "_view_module_version": "1.5.0",
            "_view_name": "RadioButtonsView",
            "description": "Metric:",
            "description_tooltip": null,
            "disabled": false,
            "index": 1,
            "layout": "IPY_MODEL_e80677ee9b504e0b8a9336a0fcfabf7b",
            "style": "IPY_MODEL_77bd70d9cee547ada1127eaa5927c96d"
          }
        },
        "f8037b2a001f40f0b2074ffc435dd855": {
          "model_module": "@jupyter-widgets/base",
          "model_module_version": "1.2.0",
          "model_name": "LayoutModel",
          "state": {
            "_model_module": "@jupyter-widgets/base",
            "_model_module_version": "1.2.0",
            "_model_name": "LayoutModel",
            "_view_count": null,
            "_view_module": "@jupyter-widgets/base",
            "_view_module_version": "1.2.0",
            "_view_name": "LayoutView",
            "align_content": null,
            "align_items": null,
            "align_self": null,
            "border": null,
            "bottom": null,
            "display": null,
            "flex": null,
            "flex_flow": null,
            "grid_area": null,
            "grid_auto_columns": null,
            "grid_auto_flow": null,
            "grid_auto_rows": null,
            "grid_column": null,
            "grid_gap": null,
            "grid_row": null,
            "grid_template_areas": null,
            "grid_template_columns": null,
            "grid_template_rows": null,
            "height": null,
            "justify_content": null,
            "justify_items": null,
            "left": null,
            "margin": null,
            "max_height": null,
            "max_width": null,
            "min_height": null,
            "min_width": null,
            "object_fit": null,
            "object_position": null,
            "order": null,
            "overflow": null,
            "overflow_x": null,
            "overflow_y": null,
            "padding": null,
            "right": null,
            "top": null,
            "visibility": null,
            "width": "80%"
          }
        },
        "f91380806e1b45ba833d3e01f5a35e27": {
          "model_module": "@jupyter-widgets/controls",
          "model_module_version": "1.5.0",
          "model_name": "BoundedIntTextModel",
          "state": {
            "_dom_classes": [],
            "_model_module": "@jupyter-widgets/controls",
            "_model_module_version": "1.5.0",
            "_model_name": "BoundedIntTextModel",
            "_view_count": null,
            "_view_module": "@jupyter-widgets/controls",
            "_view_module_version": "1.5.0",
            "_view_name": "IntTextView",
            "continuous_update": false,
            "description": "Text Index:",
            "description_tooltip": null,
            "disabled": false,
            "layout": "IPY_MODEL_fb0536fd14d24963955717551eecfc54",
            "max": 1761,
            "min": 0,
            "step": 1,
            "style": "IPY_MODEL_d5fae35bf1404a0ba9cb971c00d6ce50",
            "value": 10
          }
        },
        "fad1b724d94a420e97cd46a850727059": {
          "model_module": "@jupyter-widgets/base",
          "model_module_version": "1.2.0",
          "model_name": "LayoutModel",
          "state": {
            "_model_module": "@jupyter-widgets/base",
            "_model_module_version": "1.2.0",
            "_model_name": "LayoutModel",
            "_view_count": null,
            "_view_module": "@jupyter-widgets/base",
            "_view_module_version": "1.2.0",
            "_view_name": "LayoutView",
            "align_content": null,
            "align_items": null,
            "align_self": null,
            "border": null,
            "bottom": null,
            "display": null,
            "flex": null,
            "flex_flow": null,
            "grid_area": null,
            "grid_auto_columns": null,
            "grid_auto_flow": null,
            "grid_auto_rows": null,
            "grid_column": null,
            "grid_gap": null,
            "grid_row": null,
            "grid_template_areas": null,
            "grid_template_columns": null,
            "grid_template_rows": null,
            "height": null,
            "justify_content": null,
            "justify_items": null,
            "left": null,
            "margin": null,
            "max_height": null,
            "max_width": null,
            "min_height": null,
            "min_width": null,
            "object_fit": null,
            "object_position": null,
            "order": null,
            "overflow": null,
            "overflow_x": null,
            "overflow_y": null,
            "padding": null,
            "right": null,
            "top": null,
            "visibility": null,
            "width": "100%"
          }
        },
        "fb0536fd14d24963955717551eecfc54": {
          "model_module": "@jupyter-widgets/base",
          "model_module_version": "1.2.0",
          "model_name": "LayoutModel",
          "state": {
            "_model_module": "@jupyter-widgets/base",
            "_model_module_version": "1.2.0",
            "_model_name": "LayoutModel",
            "_view_count": null,
            "_view_module": "@jupyter-widgets/base",
            "_view_module_version": "1.2.0",
            "_view_name": "LayoutView",
            "align_content": null,
            "align_items": null,
            "align_self": null,
            "border": null,
            "bottom": null,
            "display": null,
            "flex": null,
            "flex_flow": null,
            "grid_area": null,
            "grid_auto_columns": null,
            "grid_auto_flow": null,
            "grid_auto_rows": null,
            "grid_column": null,
            "grid_gap": null,
            "grid_row": null,
            "grid_template_areas": null,
            "grid_template_columns": null,
            "grid_template_rows": null,
            "height": null,
            "justify_content": null,
            "justify_items": null,
            "left": null,
            "margin": null,
            "max_height": null,
            "max_width": null,
            "min_height": null,
            "min_width": null,
            "object_fit": null,
            "object_position": null,
            "order": null,
            "overflow": null,
            "overflow_x": null,
            "overflow_y": null,
            "padding": null,
            "right": null,
            "top": null,
            "visibility": null,
            "width": "80%"
          }
        },
        "feba2ab4f7444568abfedd43f2f7d80b": {
          "model_module": "@jupyter-widgets/controls",
          "model_module_version": "1.5.0",
          "model_name": "VBoxModel",
          "state": {
            "_dom_classes": [],
            "_model_module": "@jupyter-widgets/controls",
            "_model_module_version": "1.5.0",
            "_model_name": "VBoxModel",
            "_view_count": null,
            "_view_module": "@jupyter-widgets/controls",
            "_view_module_version": "1.5.0",
            "_view_name": "VBoxView",
            "box_style": "",
            "children": [
              "IPY_MODEL_67273406504744f1aa5ffc7ca7c3f700",
              "IPY_MODEL_40794833e4ea4f5ab4982b7d10deba35",
              "IPY_MODEL_69c40768756442718d1a17f1aecf94fe",
              "IPY_MODEL_84e6135030ca4e5db79e2852268be8c7"
            ],
            "layout": "IPY_MODEL_10b882acac6047529b5c6c4a563730ff"
          }
        }
      }
    }
  },
  "nbformat": 4,
  "nbformat_minor": 0
}
