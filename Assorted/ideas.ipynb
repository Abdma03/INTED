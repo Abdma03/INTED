{
 "cells": [
  {
   "cell_type": "markdown",
   "metadata": {},
   "source": [
    "### Idémyldring"
   ]
  },
  {
   "cell_type": "markdown",
   "metadata": {},
   "source": [
    "Mulige datasett:\n",
    "- Reuters: https://archive.ics.uci.edu/dataset/137/reuters+21578+text+categorization+collection\n",
    "- https://archive.ics.uci.edu/dataset/837/product+classification+and+clustering\n"
   ]
  },
  {
   "cell_type": "markdown",
   "metadata": {},
   "source": [
    "### Plan"
   ]
  },
  {
   "cell_type": "markdown",
   "metadata": {},
   "source": [
    "1. Sette opp felles workspace\n",
    "2. Finne datasett - spørre Jonas, Halvor og Markus?\n",
    "3. Behandle datasett - gjøre det klart for å kunne brukes\n",
    "4. Lage et script som vi kan få ChatGPT (eller en annen LLM) til å kjøre\n",
    "5. Undersøke Inter Rater Reliabilty - sjekke med Cohen's Kappa test\n",
    "    - undersøke reliability mellom ulike runs\n",
    "6. Sammenlign med \"ground truth\"\n",
    "7. Gjenta det samme med centroid-metoden"
   ]
  },
  {
   "cell_type": "markdown",
   "metadata": {},
   "source": [
    "### Spørsmål"
   ]
  },
  {
   "cell_type": "markdown",
   "metadata": {},
   "source": [
    "- Datasett \n",
    "    - Hva kan vi bruke?\n",
    "    - Har de noe spesielt i tankene?\n",
    "- Skal vi lage script selv? \n",
    "    - Er dette kode eller instruks til GPT?\n",
    "- Rapport\n",
    "    - Hvordan skal den se ut? Format, innhold ...$\\\\[15pt]$\n",
    "- Hva menes med sammenligning og \"ground truth\" - skal vi ha et datasett som allerede er kategorisert?\n",
    "- Skal vi gi tilleggsinformasjon - hvor mange kategorier vi ønsker, hvillke kategorier vi ønsker?"
   ]
  },
  {
   "cell_type": "markdown",
   "metadata": {},
   "source": [
    "### Ressurser"
   ]
  },
  {
   "cell_type": "markdown",
   "metadata": {},
   "source": [
    "Jupyter Notebook Cheat Sheet: <br>\n",
    "- https://www.ibm.com/docs/en/watson-studio-local/1.2.3?topic=notebooks-markdown-jupyter-cheatsheet"
   ]
  }
 ],
 "metadata": {
  "kernelspec": {
   "display_name": "embed",
   "language": "python",
   "name": "python3"
  },
  "language_info": {
   "name": "python",
   "version": "3.12.3"
  }
 },
 "nbformat": 4,
 "nbformat_minor": 2
}
